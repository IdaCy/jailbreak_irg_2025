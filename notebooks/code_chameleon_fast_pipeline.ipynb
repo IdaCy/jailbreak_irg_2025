{
  "cells": [
    {
      "cell_type": "markdown",
      "metadata": {
        "colab_type": "text",
        "id": "view-in-github"
      },
      "source": [
        "<a href=\"https://colab.research.google.com/github/IdaCy/jailbreak-alert-research/blob/anders_zach_new/notebooks/code_chameleon_fast_pipeline.ipynb\" target=\"_parent\"><img src=\"https://colab.research.google.com/assets/colab-badge.svg\" alt=\"Open In Colab\"/></a>"
      ]
    },
    {
      "cell_type": "code",
      "execution_count": null,
      "metadata": {
        "colab": {
          "base_uri": "https://localhost:8080/"
        },
        "id": "JPmUPkXH04C1",
        "outputId": "01b7146e-b48e-40a7-be24-6a243282d6da"
      },
      "outputs": [],
      "source": [
        "# Check Python version (optional):\n",
        "import sys\n",
        "print(\"Python version:\", sys.version)\n",
        "\n",
        "# Get installations\n",
        "!pip install --quiet torch numpy matplotlib scikit-learn pandas\n",
        "!pip install --quiet huggingface_hub transformers\n",
        "\n",
        "import os\n",
        "import torch\n",
        "import numpy as np\n",
        "import matplotlib.pyplot as plt\n",
        "from sklearn.decomposition import PCA\n",
        "\n",
        "# If you want to check GPU usage:\n",
        "import torch\n",
        "device = \"cuda\" if torch.cuda.is_available() else \"cpu\"\n",
        "print(\"Using device:\", device)"
      ]
    },
    {
      "cell_type": "code",
      "execution_count": 2,
      "metadata": {
        "colab": {
          "base_uri": "https://localhost:8080/"
        },
        "id": "E7_YjeCM045B",
        "outputId": "e48746f5-d2c2-4502-81b9-29657d811602"
      },
      "outputs": [
        {
          "name": "stdout",
          "output_type": "stream",
          "text": [
            "\u001b[0m\u001b[01;34msample_data\u001b[0m/\n"
          ]
        }
      ],
      "source": [
        "import torch\n",
        "torch.cuda.empty_cache()\n",
        "%ls"
      ]
    },
    {
      "cell_type": "code",
      "execution_count": 3,
      "metadata": {
        "colab": {
          "base_uri": "https://localhost:8080/"
        },
        "id": "pSfIl2eLAmsI",
        "outputId": "bef4698f-8f6f-4ffd-b51a-ef2b3bef0cfe"
      },
      "outputs": [
        {
          "name": "stdout",
          "output_type": "stream",
          "text": [
            "Mounted at /content/drive\n"
          ]
        }
      ],
      "source": [
        "from google.colab import drive\n",
        "drive.mount('/content/drive')\n",
        "\n",
        "# After running this cell, follow the link to grant Colab access to your Google Drive."
      ]
    },
    {
      "cell_type": "code",
      "execution_count": null,
      "metadata": {
        "colab": {
          "base_uri": "https://localhost:8080/"
        },
        "id": "bwyZ7MDi07e8",
        "outputId": "756ceb6b-1887-45e1-8c36-be50af5f0123"
      },
      "outputs": [
        {
          "name": "stdout",
          "output_type": "stream",
          "text": [
            "Cloning into 'jailbreak-alert-research'...\n",
            "remote: Enumerating objects: 1716, done.\u001b[K\n",
            "remote: Counting objects: 100% (54/54), done.\u001b[K\n",
            "remote: Compressing objects: 100% (44/44), done.\u001b[K\n",
            "remote: Total 1716 (delta 28), reused 24 (delta 10), pack-reused 1662 (from 2)\u001b[K\n",
            "Receiving objects: 100% (1716/1716), 1.37 GiB | 40.52 MiB/s, done.\n",
            "Resolving deltas: 100% (467/467), done.\n",
            "Updating files: 100% (856/856), done.\n",
            "/content/jailbreak-alert-research\n"
          ]
        }
      ],
      "source": [
        "# Define the input (source) and output (destination) paths\n",
        "input = \"/content/drive/MyDrive/jailbreak_storing/input/all_problem.csv\"  # Replace with the actual path in your Google Drive\n",
        "output = \"all_problem.csv\"    # Replace with the desired path in your project\n",
        "\n",
        "# Use the cp command to copy the file\n",
        "!cp $input $output"
      ]
    },
    {
      "cell_type": "markdown",
      "metadata": {},
      "source": []
    },
    {
      "cell_type": "code",
      "execution_count": null,
      "metadata": {
        "colab": {
          "base_uri": "https://localhost:8080/"
        },
        "id": "_ZXcel1TCrMv",
        "outputId": "202878b9-3aa3-4fb0-81b4-cea2f9305134"
      },
      "outputs": [
        {
          "name": "stdout",
          "output_type": "stream",
          "text": [
            "Branch 'anders_zach_new' set up to track remote branch 'anders_zach_new' from 'origin'.\n",
            "Switched to a new branch 'anders_zach_new'\n"
          ]
        }
      ],
      "source": []
    },
    {
      "cell_type": "code",
      "execution_count": 6,
      "metadata": {
        "colab": {
          "base_uri": "https://localhost:8080/"
        },
        "id": "XMy6GqqqODL_",
        "outputId": "b137a76e-3809-4d24-d64c-ffd848f69657"
      },
      "outputs": [
        {
          "name": "stdout",
          "output_type": "stream",
          "text": [
            "Already up to date.\n"
          ]
        }
      ],
      "source": [
        "!git pull"
      ]
    },
    {
      "cell_type": "markdown",
      "metadata": {
        "id": "uTG7bq7NCrMw"
      },
      "source": [
        "# Load Model and Tokeniser here first time around"
      ]
    },
    {
      "cell_type": "code",
      "execution_count": null,
      "metadata": {
        "colab": {
          "base_uri": "https://localhost:8080/",
          "height": 177,
          "referenced_widgets": [
            "f140fec33e774482a40819a19d0b48a3",
            "af5015c495354812a238e9eda2004941",
            "07c4e1fc4b564f11a4b1021256ef102a",
            "eee71406a9f44ed2bda843da28190930",
            "b0137dc6b2ee43bf8ad19c55ba1f10f2",
            "65e5ffbfff864bdbab2d7fe15f69f9e8",
            "e65a332d824f44bc9502c928d292541d",
            "ed8d960c81aa4a03ae154fcd7ee7e13e",
            "6deb866c1d184a3c8efebb733bb8fcb8",
            "ff9a9af817384c67baf215e426de7e07",
            "7581940b5039492aabcefeef5b2c1402",
            "eeef48406f9048d69d9bf17ed2d17d5f",
            "f9104471712942ae8b0375b2927ee476",
            "fcf8ebbd99b1480793846c25ff2ba69a",
            "c2b8db6b89704064a03a0c6dd225ee0c",
            "f165831279f94c17a69e8e3f730acfb6",
            "a3907551cbd14ddfb967faaa85c5fe1a",
            "3bc9b752c7ab49bab3f85ff25c29c2c7",
            "aa4f841fd0e9469595ba49d2b1bd17b7",
            "c820b1e26a724c4d9a4cd25fc75ee598",
            "4edfef3b6ce54159ae704e3f6bb7ef57",
            "6e314a1629794e5780de43eaabc529aa",
            "fb1e67b63c174c57a4acbfc889fd121d",
            "6978e9b42ffc4f2cb72f5f1d444c84e9",
            "4b5efbd31f4c41ac92456bfa8eb2257b",
            "65fdbdc9ac624c57945488155e875640",
            "fc5e7b4013434230936d81755431aaae",
            "32fafcafd6dc4f31ba07d0c6bd5208b9",
            "aef70ce0cb184556ac50cda737f22742",
            "7ee6a5a75d6d4601942da28d09fc961e",
            "eb9fe84e2b7c46b2ac0c84644ab7db42",
            "a1e122938bf7452faf738a91aef5c497"
          ]
        },
        "id": "u1KaIRpM086l",
        "outputId": "811829d7-609c-4b9b-8073-915bf4f201bf"
      },
      "outputs": [],
      "source": [
        "!pip install huggingface_hub --quiet\n",
        "\n",
        "from huggingface_hub import notebook_login\n",
        "\n",
        "# This will prompt you in Colab to enter your HF token or log in directly\n",
        "notebook_login()"
      ]
    },
    {
      "cell_type": "code",
      "execution_count": null,
      "metadata": {
        "id": "AUpDPvLf1DbB"
      },
      "outputs": [],
      "source": [
        "import logging\n",
        "logging.basicConfig(level=logging.INFO)\n",
        "\n",
        "from functions.load_csv_prompts import load_prompts\n",
        "from functions.csv_inference import load_model_and_tokenizer, run_inference\n",
        "\n",
        "# 1. Load the model/tokenizer once\n",
        "tokenizer, model = load_model_and_tokenizer(\n",
        "    model_name=\"google/gemma-2-9b-it\",\n",
        "    use_bfloat16=True,\n",
        "    hf_token=None\n",
        ")"
      ]
    },
    {
      "cell_type": "code",
      "execution_count": null,
      "metadata": {
        "id": "lV2cP8Y6CrM0"
      },
      "outputs": [],
      "source": [
        "# Save model and tokenizer to Google Drive\n",
        "SAVE_PATH = \"/content/drive/MyDrive/models/gemma-2-9b-it\"\n",
        "!mkdir -p $SAVE_PATH\n",
        "\n",
        "print(f\"Saving model and tokenizer to {SAVE_PATH}...\")\n",
        "model.save_pretrained(SAVE_PATH)\n",
        "tokenizer.save_pretrained(SAVE_PATH)\n",
        "print(\"Save complete!\")\n"
      ]
    },
    {
      "cell_type": "markdown",
      "metadata": {
        "id": "hEKKE3U-CrM1"
      },
      "source": [
        "# In future, skip above, load model here"
      ]
    },
    {
      "cell_type": "code",
      "execution_count": 7,
      "metadata": {
        "colab": {
          "base_uri": "https://localhost:8080/",
          "height": 85,
          "referenced_widgets": [
            "fa2a7c91ccb648bbabc30f0d1e87339c",
            "a5492f09d6f14d67944ffe9f6addc88c",
            "a7cf52b918614e9e9309784dd966a26f",
            "1e7663dea8e54add8abb3c6425cfb9d1",
            "8743ce89c85c4d05be1c12c33ea9093c",
            "6e04d8fd4cac4a35a21d77ec702f3a33",
            "0ca34592501a44e4ae9c9365bb58682a",
            "4ce0b52fbebe403b898af14f589772cc",
            "947aa1f6245c42d592de2a4a3c3d72d2",
            "d2e217ea79d944cea621b8fef88490a5",
            "a1bc74c603cf4b4fa4f5af97d479436a"
          ]
        },
        "id": "Q88wb-MbCrM1",
        "outputId": "82091842-56d1-436b-e57a-9aa3712a9ece"
      },
      "outputs": [
        {
          "name": "stdout",
          "output_type": "stream",
          "text": [
            "Loading saved model from Google Drive...\n"
          ]
        },
        {
          "data": {
            "application/vnd.jupyter.widget-view+json": {
              "model_id": "fa2a7c91ccb648bbabc30f0d1e87339c",
              "version_major": 2,
              "version_minor": 0
            },
            "text/plain": [
              "Loading checkpoint shards:   0%|          | 0/4 [00:00<?, ?it/s]"
            ]
          },
          "metadata": {},
          "output_type": "display_data"
        },
        {
          "name": "stdout",
          "output_type": "stream",
          "text": [
            "Model loaded successfully!\n"
          ]
        }
      ],
      "source": [
        "#in future use this to load the model and tokenizer\n",
        "from transformers import AutoModelForCausalLM, AutoTokenizer\n",
        "\n",
        "LOAD_PATH = \"/content/drive/MyDrive/models/gemma-2-9b-it\"\n",
        "print(\"Loading saved model from Google Drive...\")\n",
        "model = AutoModelForCausalLM.from_pretrained(\n",
        "    LOAD_PATH,\n",
        "    device_map=\"auto\",\n",
        "    torch_dtype=torch.bfloat16\n",
        ")\n",
        "tokenizer = AutoTokenizer.from_pretrained(LOAD_PATH)\n",
        "print(\"Model loaded successfully!\")"
      ]
    },
    {
      "cell_type": "code",
      "execution_count": null,
      "metadata": {
        "colab": {
          "base_uri": "https://localhost:8080/"
        },
        "id": "f28fhHCv2hcO",
        "outputId": "0a48bbfc-18ac-4deb-c29c-905c28b79f11"
      },
      "outputs": [],
      "source": [
        "import os\n",
        "import pandas as pd\n",
        "\n",
        "# Verify current working directory and file existence\n",
        "print(\"Current working directory:\", os.getcwd())\n",
        "csv_path = \"data/code_chameleon/formatted_reverse_820jb.csv\"\n",
        "print(\"Checking for file at:\", os.path.abspath(csv_path))\n",
        "print(\"File exists:\", os.path.exists(csv_path))\n",
        "\n",
        "# Load prompts from CSV\n",
        "df = pd.read_csv(csv_path, escapechar='\\\\')  # Added escapechar for special characters\n",
        "prompts = df['sentence'].tolist()\n",
        "\n",
        "# Print verification info\n",
        "print(f\"\\nNumber of prompts loaded: {len(prompts)}\")\n",
        "print(\"\\nFirst prompt (full content):\")\n",
        "print(\"=\"*80)\n",
        "print(prompts[0])\n",
        "print(\"=\"*80)\n",
        "\n",
        "# Create output directory\n",
        "%mkdir -p output/extractions/gemma-2-9b-it"
      ]
    },
    {
      "cell_type": "code",
      "execution_count": null,
      "metadata": {
        "colab": {
          "base_uri": "https://localhost:8080/"
        },
        "id": "CupxVzUUiOeU",
        "outputId": "644097fa-247b-450d-c45f-93f333c41e55"
      },
      "outputs": [],
      "source": [
        "from functions.load_csv_prompts import load_prompts\n",
        "import os\n",
        "\n",
        "def print_full_prompts(n=10):\n",
        "    \"\"\"Print first n prompts with clear separation and full content\"\"\"\n",
        "\n",
        "    # Load prompts\n",
        "    csv_path = \"data/code_chameleon/formatted_none_820jb.csv\"\n",
        "    prompts = load_prompts(csv_path=csv_path)\n",
        "\n",
        "    print(f\"Total prompts loaded: {len(prompts)}\\n\")\n",
        "    print(\"=\"*80 + \"\\n\")\n",
        "\n",
        "    # Print each prompt with full formatting\n",
        "    for i, prompt in enumerate(prompts[:n], 1):\n",
        "        print(f\"PROMPT {i}\")\n",
        "        print(\"-\"*40)\n",
        "        print(f\"{prompt}\")  # Print full prompt without truncation\n",
        "        print(\"\\n\" + \"=\"*80 + \"\\n\")  # Clear separator between prompts\n",
        "\n",
        "# Run the function\n",
        "print_full_prompts(10)"
      ]
    },
    {
      "cell_type": "code",
      "execution_count": null,
      "metadata": {
        "colab": {
          "base_uri": "https://localhost:8080/"
        },
        "id": "eEw4Fk5BMuYE",
        "outputId": "fa4f9aa4-7eec-4411-92cc-ac487b091338"
      },
      "outputs": [
        {
          "name": "stdout",
          "output_type": "stream",
          "text": [
            "hello\n"
          ]
        }
      ],
      "source": [
        "print(\"hello\")"
      ]
    },
    {
      "cell_type": "markdown",
      "metadata": {
        "id": "wZeAFb89MDZd"
      },
      "source": []
    },
    {
      "cell_type": "code",
      "execution_count": null,
      "metadata": {
        "colab": {
          "base_uri": "https://localhost:8080/",
          "height": 217
        },
        "id": "AnbTEDBfEBY_",
        "outputId": "0e4fde62-69d5-48ee-90c4-5ebbb65ccde5"
      },
      "outputs": [
        {
          "ename": "NameError",
          "evalue": "name 'logging' is not defined",
          "output_type": "error",
          "traceback": [
            "\u001b[0;31m---------------------------------------------------------------------------\u001b[0m",
            "\u001b[0;31mNameError\u001b[0m                                 Traceback (most recent call last)",
            "\u001b[0;32m<ipython-input-9-526d0ec37db5>\u001b[0m in \u001b[0;36m<cell line: 0>\u001b[0;34m()\u001b[0m\n\u001b[1;32m      2\u001b[0m \u001b[0;34m\u001b[0m\u001b[0m\n\u001b[1;32m      3\u001b[0m \u001b[0;31m# Create (or get) a logger and set the level\u001b[0m\u001b[0;34m\u001b[0m\u001b[0;34m\u001b[0m\u001b[0m\n\u001b[0;32m----> 4\u001b[0;31m \u001b[0mlogger\u001b[0m \u001b[0;34m=\u001b[0m \u001b[0mlogging\u001b[0m\u001b[0;34m.\u001b[0m\u001b[0mgetLogger\u001b[0m\u001b[0;34m(\u001b[0m\u001b[0m__name__\u001b[0m\u001b[0;34m)\u001b[0m\u001b[0;34m\u001b[0m\u001b[0;34m\u001b[0m\u001b[0m\n\u001b[0m\u001b[1;32m      5\u001b[0m \u001b[0mlogger\u001b[0m\u001b[0;34m.\u001b[0m\u001b[0msetLevel\u001b[0m\u001b[0;34m(\u001b[0m\u001b[0mlogging\u001b[0m\u001b[0;34m.\u001b[0m\u001b[0mINFO\u001b[0m\u001b[0;34m)\u001b[0m\u001b[0;34m\u001b[0m\u001b[0;34m\u001b[0m\u001b[0m\n\u001b[1;32m      6\u001b[0m \u001b[0;34m\u001b[0m\u001b[0m\n",
            "\u001b[0;31mNameError\u001b[0m: name 'logging' is not defined"
          ]
        }
      ],
      "source": [
        "### just some logging ###\n",
        "\n",
        "# Create (or get) a logger and set the level\n",
        "logger = logging.getLogger(__name__)\n",
        "logger.setLevel(logging.INFO)\n",
        "\n",
        "# OPTIONAL: if you want to clear any existing handlers, do:\n",
        "# logger.handlers = []\n",
        "\n",
        "# Create a console handler that prints to stdout\n",
        "console_handler = logging.StreamHandler(sys.stdout)\n",
        "console_handler.setLevel(logging.INFO)\n",
        "\n",
        "# Create a formatter and set it for the console handler\n",
        "formatter = logging.Formatter(\"[%(asctime)s] [%(levelname)s] %(message)s\")\n",
        "console_handler.setFormatter(formatter)\n",
        "\n",
        "# Add the handler to the logger\n",
        "logger.addHandler(console_handler)\n"
      ]
    },
    {
      "cell_type": "markdown",
      "metadata": {
        "id": "s3fBBAgCnPwB"
      },
      "source": [
        "#test inference is running correctly"
      ]
    },
    {
      "cell_type": "code",
      "execution_count": null,
      "metadata": {
        "colab": {
          "base_uri": "https://localhost:8080/"
        },
        "id": "T_Ca-WRFnNZV",
        "outputId": "f794da9e-761e-4fce-f334-58df4a5913b0"
      },
      "outputs": [],
      "source": [
        "import os\n",
        "import logging\n",
        "import pandas as pd\n",
        "import torch\n",
        "\n",
        "# Create log directories if they don't exist\n",
        "os.makedirs(\"logs\", exist_ok=True)\n",
        "os.makedirs(\"output/extractions/gemma-2-9b-it\", exist_ok=True)\n",
        "\n",
        "# Set up basic logging\n",
        "logging.basicConfig(level=logging.INFO)\n",
        "\n",
        "# Load first 2 prompts from CSV using pandas\n",
        "csv_path = \"data/code_chameleon/formatted_reverse_820jb.csv\"\n",
        "df = pd.read_csv(csv_path)\n",
        "prompts = df['sentence'].tolist()[:2]  # Only take first 2 prompts\n",
        "\n",
        "print(f\"Loaded 2 prompts from CSV\")\n",
        "print(\"\\nPrompt 1:\")\n",
        "print(\"=\"*80)\n",
        "print(prompts[0])\n",
        "print(\"\\nPrompt 2:\")\n",
        "print(\"=\"*80)\n",
        "print(prompts[1])\n",
        "\n",
        "# Run inference with just 2 prompts\n",
        "from functions.csv_inference import run_inference\n",
        "\n",
        "results = run_inference(\n",
        "    model=model,\n",
        "    tokenizer=tokenizer,\n",
        "    prompts=prompts[0:2],\n",
        "    output_dir=\"output/extractions/gemma-2-9b-it\",\n",
        "    batch_size=2,  # Set to 2 since we only have 2 prompts\n",
        "    max_seq_length=2048,\n",
        "    max_new_tokens=150,\n",
        "    extract_hidden_layers=[0,5,10,15,20,25],\n",
        "    extract_attention_layers=[0,5,10,15,20,25],\n",
        "    top_k_logits=10,\n",
        "    log_file=\"logs/inference.log\",\n",
        "    error_log=\"logs/errors.log\"\n",
        ")\n",
        "\n",
        "# Print the results\n",
        "if results:\n",
        "    print(\"\\nPrompt and Responses:\")\n",
        "    for i, (prompt, response) in enumerate(zip(prompts[0:2], results['final_predictions'])):\n",
        "        print(f\"\\nPrompt {i + 1}:\")\n",
        "        print(\"-\" * 40)\n",
        "        print(prompt)\n",
        "        print(f\"\\nResponse {i + 1}:\")\n",
        "        print(\"-\" * 40)\n",
        "        print(response)\n",
        "        print(\"=\" * 80)\n",
        "else:\n",
        "    print(\"Inference failed. Check the error logs for details.\")"
      ]
    },
    {
      "cell_type": "markdown",
      "metadata": {
        "id": "B8c4ya4RnW3Z"
      },
      "source": [
        "#run inference"
      ]
    },
    {
      "cell_type": "code",
      "execution_count": null,
      "metadata": {
        "colab": {
          "base_uri": "https://localhost:8080/"
        },
        "id": "a2Uawa2EEMs8",
        "outputId": "5c807683-f9a0-4d14-d5ae-957e273b93a2"
      },
      "outputs": [
        {
          "name": "stdout",
          "output_type": "stream",
          "text": [
            "Loaded 820 prompts from CSV\n"
          ]
        }
      ],
      "source": [
        "import os\n",
        "import logging\n",
        "import pandas as pd\n",
        "\n",
        "# Create log directories if they don't exist\n",
        "os.makedirs(\"logs\", exist_ok=True)\n",
        "os.makedirs(\"output/extractions/gemma-2-9b-it\", exist_ok=True)\n",
        "\n",
        "# Set up basic logging\n",
        "logging.basicConfig(level=logging.INFO)\n",
        "\n",
        "# Load prompts directly from CSV using pandas\n",
        "csv_path = \"data/code_chameleon/formatted_reverse_820jb.csv\"\n",
        "df = pd.read_csv(csv_path)\n",
        "prompts = df['sentence'].tolist()\n",
        "\n",
        "print(f\"Loaded {len(prompts)} prompts from CSV\")\n",
        "\n",
        "# Run inference with loaded prompts\n",
        "from functions.csv_inference import run_inference\n",
        "\n",
        "run_inference(\n",
        "    model=model,\n",
        "    tokenizer=tokenizer,\n",
        "    prompts=prompts,  # Using prompts loaded directly from CSV\n",
        "    output_dir=\"output/extractions/gemma-2-9b-it\",\n",
        "    batch_size=16,\n",
        "    max_seq_length=2048,\n",
        "    max_new_tokens=150,\n",
        "    extract_hidden_layers=[0,5,10,15,20,25],\n",
        "    extract_attention_layers=[0,5,10,15,20,25],\n",
        "    top_k_logits=10,\n",
        "    log_file=\"logs/inference.log\",\n",
        "    error_log=\"logs/errors.log\"\n",
        ")"
      ]
    },
    {
      "cell_type": "code",
      "execution_count": null,
      "metadata": {
        "colab": {
          "base_uri": "https://localhost:8080/"
        },
        "id": "p16DPweMOO79",
        "outputId": "a88b8b3a-1a48-4392-ebb5-49da2e5b7a65"
      },
      "outputs": [
        {
          "name": "stdout",
          "output_type": "stream",
          "text": [
            "got .pt files over to: /content/drive/MyDrive/jailbreak_storing/output/extractions/gemma-2-9b-it/test-1\n"
          ]
        }
      ],
      "source": [
        "LOCAL_PATH = \"output/extractions/gemma-2-9b-it\"\n",
        "GDRIVE_PATH = \"/content/drive/MyDrive/jailbreak_storing/output/extractions/gemma-2-9b-it/test-1\"\n",
        "\n",
        "!mkdir -p \"$GDRIVE_PATH\"\n",
        "!cp -r \"$LOCAL_PATH\"/* \"$GDRIVE_PATH\"\n",
        "\n",
        "print(\"got .pt files over to:\", GDRIVE_PATH)"
      ]
    },
    {
      "cell_type": "markdown",
      "metadata": {
        "id": "XGuLMxC5dh4v"
      },
      "source": [
        "# debug: check output"
      ]
    },
    {
      "cell_type": "code",
      "execution_count": null,
      "metadata": {
        "colab": {
          "base_uri": "https://localhost:8080/"
        },
        "id": "Kbr9-NUCRZbc",
        "outputId": "0d64629b-bb08-406c-cbb8-c26af5da8419"
      },
      "outputs": [],
      "source": [
        "import torch\n",
        "import os\n",
        "from google.colab import drive\n",
        "\n",
        "def print_first_response(input_dir):\n",
        "    \"\"\"Prints the complete first model response from each .pt file in Google Drive.\n",
        "\n",
        "    Args:\n",
        "        input_dir: Path to directory containing .pt files in Google Drive\n",
        "    \"\"\"\n",
        "    # Mount Google Drive if not already mounted\n",
        "    if not os.path.exists('/content/drive'):\n",
        "        drive.mount('/content/drive')\n",
        "\n",
        "    # Sort files to process in order\n",
        "    pt_files = sorted([f for f in os.listdir(input_dir) if f.endswith('.pt')])\n",
        "\n",
        "    if not pt_files:\n",
        "        print(f\"No .pt files found in {input_dir}\")\n",
        "        return\n",
        "\n",
        "    for filename in pt_files:\n",
        "        filepath = os.path.join(input_dir, filename)\n",
        "        try:\n",
        "            # Load the batch data\n",
        "            data = torch.load(filepath)\n",
        "\n",
        "            # Get complete prompt and response from batch\n",
        "            first_prompt = data['batch_texts'][0]\n",
        "            first_response = data['final_predictions'][0]\n",
        "\n",
        "            # Print with formatting and no truncation\n",
        "            print(f\"\\n{'='*80}\")\n",
        "            print(f\"=== File: {filename} ===\")\n",
        "            print(f\"\\nInput prompt:\\n{first_prompt}\")\n",
        "            print(f\"\\nModel response:\\n{first_response}\")\n",
        "            print('='*80 + '\\n')\n",
        "\n",
        "        except Exception as e:\n",
        "            print(f\"Error processing {filename}: {e}\")\n",
        "\n",
        "# Example usage with your Google Drive path\n",
        "input_directory = \"/content/drive/MyDrive/jailbreak_storing/output/extractions/gemma-2-9b-it/test-1\"\n",
        "print_first_response(input_directory)"
      ]
    },
    {
      "cell_type": "code",
      "execution_count": null,
      "metadata": {
        "colab": {
          "base_uri": "https://localhost:8080/"
        },
        "id": "nd9xvO36RSjO",
        "outputId": "9ac23228-849d-4e12-aeeb-cb5f7359e84d"
      },
      "outputs": [
        {
          "name": "stdout",
          "output_type": "stream",
          "text": [
            "No .pt files with model responses found in the directory.\n"
          ]
        }
      ],
      "source": [
        "import torch\n",
        "import os\n",
        "\n",
        "def print_first_response(input_dir):\n",
        "  \"\"\"Prints the first model response from the first .pt file in a directory.\n",
        "\n",
        "  Args:\n",
        "    input_dir: The directory containing the .pt files.\n",
        "  \"\"\"\n",
        "  for filename in os.listdir(input_dir):\n",
        "    if filename.endswith(\".pt\"):\n",
        "      filepath = os.path.join(input_dir, filename)\n",
        "      try:\n",
        "          data = torch.load(filepath)\n",
        "          if 'model_responses' in data and data['model_responses']:\n",
        "              print(f\"First response from {filename}:\")\n",
        "              print(data['model_responses'][0])  # Print the first response\n",
        "              return  # Stop after printing the first response\n",
        "      except Exception as e:\n",
        "          print(f\"Error loading or processing {filename}: {e}\")\n",
        "  print(\"No .pt files with model responses found in the directory.\")\n",
        "\n",
        "# Example usage:\n",
        "input_directory = \"output/extractions/gemma-2-9b-it\"  # Replace with your directory\n",
        "print_first_response(input_directory)"
      ]
    },
    {
      "cell_type": "code",
      "execution_count": null,
      "metadata": {
        "id": "F4ZR_lXiQ3t9"
      },
      "outputs": [],
      "source": [
        "import torch\n",
        "import os\n",
        "\n",
        "def print_model_responses(input_dir):\n",
        "  \"\"\"Prints model responses from .pt files in a directory.\n",
        "\n",
        "  Args:\n",
        "    input_dir: The directory containing the .pt files.\n",
        "  \"\"\"\n",
        "\n",
        "  for filename in os.listdir(input_dir):\n",
        "    if filename.endswith(\".pt\"):\n",
        "      filepath = os.path.join(input_dir, filename)\n",
        "      data = torch.load(filepath)\n",
        "      if 'model_responses' in data:\n",
        "        print(f\"Responses from {filename}:\")\n",
        "        for response in data['model_responses']:\n",
        "          print(response)\n",
        "\n",
        "# Example usage:\n",
        "input_directory = \"output/extractions/gemma-2-9b-it\"  # Replace with your directory\n",
        "print_model_responses(input_directory)"
      ]
    },
    {
      "cell_type": "code",
      "execution_count": null,
      "metadata": {
        "id": "KlnftExvLTeI"
      },
      "outputs": [],
      "source": [
        "%ls GDRIVE_PATH\n",
        "%mkdir output/extractions/gemma3-4bit/attack_jailbreak"
      ]
    },
    {
      "cell_type": "code",
      "execution_count": null,
      "metadata": {
        "id": "zYdPncbLLbqp"
      },
      "outputs": [],
      "source": [
        "# 2. Load one set of prompts\n",
        "prompts_file = \"data/renellm/attacks_all.json\"\n",
        "prompts_jb = load_json_prompts(\n",
        "    prompts_file,\n",
        "    prompt_key=\"attack_jailbreak\",\n",
        "    num_samples=None\n",
        ")"
      ]
    },
    {
      "cell_type": "code",
      "execution_count": null,
      "metadata": {
        "id": "GlWnReUQLgmR"
      },
      "outputs": [],
      "source": [
        "# 3. Run inference & capture activations\n",
        "run_inference(\n",
        "    model,\n",
        "    tokenizer,\n",
        "    prompts_bad,\n",
        "    output_dir=\"output/extractions/gemma3-4bit/attack_jailbreak\",\n",
        "    batch_size=8,\n",
        "    max_new_tokens=50,\n",
        "    extract_hidden_layers=[0,5,10,15,20,25],\n",
        "    extract_attention_layers=[0,5,10,15,20,25],\n",
        "    top_k_logits=10\n",
        ")"
      ]
    },
    {
      "cell_type": "code",
      "execution_count": null,
      "metadata": {
        "id": "HQHj832cO2Ih"
      },
      "outputs": [],
      "source": [
        "LOCAL_PATH = \"output/extractions/gemma3-4b/attack_jailbreak\"\n",
        "GDRIVE_PATH = \"/content/drive/MyDrive/jailbreak_storing/output/extractions/gemma3-4b/attack_jailbreak\"\n",
        "\n",
        "!mkdir -p \"$GDRIVE_PATH\"\n",
        "!cp -r \"$LOCAL_PATH\"/* \"$GDRIVE_PATH\"\n",
        "\n",
        "print(\"got .pt files over to:\", GDRIVE_PATH)"
      ]
    },
    {
      "cell_type": "code",
      "execution_count": null,
      "metadata": {
        "id": "EJqxgjBPO7Zg"
      },
      "outputs": [],
      "source": [
        "%ls /content/drive/MyDrive/jailbreak_storing/output/extractions/gemma3-4b/\n",
        "%ls /content/drive/MyDrive/jailbreak_storing/output/extractions/gemma3-4b/attack_jailbreak"
      ]
    },
    {
      "cell_type": "code",
      "execution_count": null,
      "metadata": {
        "id": "yjOCzNBNPMoc"
      },
      "outputs": [],
      "source": [
        "import sys\n",
        "sys.path.append(\".\")\n",
        "\n",
        "from functions.read_predictions import read_predictions\n",
        "\n",
        "# Then call it:\n",
        "preds = read_predictions(\n",
        "    read_output_dir=\"output/extractions/gemma3-4b/attack\",\n",
        "    max_predictions=50,\n",
        "    write_predictions_file=\"logs/pred_out.txt\",\n",
        "    log_file=\"logs/readpred.log\"\n",
        ")\n",
        "\n",
        "print(\"Number of preds:\", len(preds))\n",
        "print(\"First 3 preds:\", preds[:15])"
      ]
    }
  ],
  "metadata": {
    "accelerator": "GPU",
    "colab": {
      "gpuType": "A100",
      "include_colab_link": true,
      "machine_shape": "hm",
      "provenance": []
    },
    "kernelspec": {
      "display_name": "Python 3",
      "name": "python3"
    },
    "language_info": {
      "name": "python"
    },
    "widgets": {
      "application/vnd.jupyter.widget-state+json": {
        "07c4e1fc4b564f11a4b1021256ef102a": {
          "model_module": "@jupyter-widgets/controls",
          "model_module_version": "1.5.0",
          "model_name": "PasswordModel",
          "state": {
            "_dom_classes": [],
            "_model_module": "@jupyter-widgets/controls",
            "_model_module_version": "1.5.0",
            "_model_name": "PasswordModel",
            "_view_count": null,
            "_view_module": "@jupyter-widgets/controls",
            "_view_module_version": "1.5.0",
            "_view_name": "PasswordView",
            "continuous_update": true,
            "description": "Token:",
            "description_tooltip": null,
            "disabled": false,
            "layout": "IPY_MODEL_ff9a9af817384c67baf215e426de7e07",
            "placeholder": "​",
            "style": "IPY_MODEL_7581940b5039492aabcefeef5b2c1402",
            "value": ""
          }
        },
        "0ca34592501a44e4ae9c9365bb58682a": {
          "model_module": "@jupyter-widgets/controls",
          "model_module_version": "1.5.0",
          "model_name": "DescriptionStyleModel",
          "state": {
            "_model_module": "@jupyter-widgets/controls",
            "_model_module_version": "1.5.0",
            "_model_name": "DescriptionStyleModel",
            "_view_count": null,
            "_view_module": "@jupyter-widgets/base",
            "_view_module_version": "1.2.0",
            "_view_name": "StyleView",
            "description_width": ""
          }
        },
        "1e7663dea8e54add8abb3c6425cfb9d1": {
          "model_module": "@jupyter-widgets/controls",
          "model_module_version": "1.5.0",
          "model_name": "HTMLModel",
          "state": {
            "_dom_classes": [],
            "_model_module": "@jupyter-widgets/controls",
            "_model_module_version": "1.5.0",
            "_model_name": "HTMLModel",
            "_view_count": null,
            "_view_module": "@jupyter-widgets/controls",
            "_view_module_version": "1.5.0",
            "_view_name": "HTMLView",
            "description": "",
            "description_tooltip": null,
            "layout": "IPY_MODEL_d2e217ea79d944cea621b8fef88490a5",
            "placeholder": "​",
            "style": "IPY_MODEL_a1bc74c603cf4b4fa4f5af97d479436a",
            "value": " 4/4 [02:54&lt;00:00, 38.95s/it]"
          }
        },
        "32fafcafd6dc4f31ba07d0c6bd5208b9": {
          "model_module": "@jupyter-widgets/base",
          "model_module_version": "1.2.0",
          "model_name": "LayoutModel",
          "state": {
            "_model_module": "@jupyter-widgets/base",
            "_model_module_version": "1.2.0",
            "_model_name": "LayoutModel",
            "_view_count": null,
            "_view_module": "@jupyter-widgets/base",
            "_view_module_version": "1.2.0",
            "_view_name": "LayoutView",
            "align_content": null,
            "align_items": null,
            "align_self": null,
            "border": null,
            "bottom": null,
            "display": null,
            "flex": null,
            "flex_flow": null,
            "grid_area": null,
            "grid_auto_columns": null,
            "grid_auto_flow": null,
            "grid_auto_rows": null,
            "grid_column": null,
            "grid_gap": null,
            "grid_row": null,
            "grid_template_areas": null,
            "grid_template_columns": null,
            "grid_template_rows": null,
            "height": null,
            "justify_content": null,
            "justify_items": null,
            "left": null,
            "margin": null,
            "max_height": null,
            "max_width": null,
            "min_height": null,
            "min_width": null,
            "object_fit": null,
            "object_position": null,
            "order": null,
            "overflow": null,
            "overflow_x": null,
            "overflow_y": null,
            "padding": null,
            "right": null,
            "top": null,
            "visibility": null,
            "width": null
          }
        },
        "3bc9b752c7ab49bab3f85ff25c29c2c7": {
          "model_module": "@jupyter-widgets/controls",
          "model_module_version": "1.5.0",
          "model_name": "LabelModel",
          "state": {
            "_dom_classes": [],
            "_model_module": "@jupyter-widgets/controls",
            "_model_module_version": "1.5.0",
            "_model_name": "LabelModel",
            "_view_count": null,
            "_view_module": "@jupyter-widgets/controls",
            "_view_module_version": "1.5.0",
            "_view_name": "LabelView",
            "description": "",
            "description_tooltip": null,
            "layout": "IPY_MODEL_aa4f841fd0e9469595ba49d2b1bd17b7",
            "placeholder": "​",
            "style": "IPY_MODEL_c820b1e26a724c4d9a4cd25fc75ee598",
            "value": "Connecting..."
          }
        },
        "4b5efbd31f4c41ac92456bfa8eb2257b": {
          "model_module": "@jupyter-widgets/base",
          "model_module_version": "1.2.0",
          "model_name": "LayoutModel",
          "state": {
            "_model_module": "@jupyter-widgets/base",
            "_model_module_version": "1.2.0",
            "_model_name": "LayoutModel",
            "_view_count": null,
            "_view_module": "@jupyter-widgets/base",
            "_view_module_version": "1.2.0",
            "_view_name": "LayoutView",
            "align_content": null,
            "align_items": null,
            "align_self": null,
            "border": null,
            "bottom": null,
            "display": null,
            "flex": null,
            "flex_flow": null,
            "grid_area": null,
            "grid_auto_columns": null,
            "grid_auto_flow": null,
            "grid_auto_rows": null,
            "grid_column": null,
            "grid_gap": null,
            "grid_row": null,
            "grid_template_areas": null,
            "grid_template_columns": null,
            "grid_template_rows": null,
            "height": null,
            "justify_content": null,
            "justify_items": null,
            "left": null,
            "margin": null,
            "max_height": null,
            "max_width": null,
            "min_height": null,
            "min_width": null,
            "object_fit": null,
            "object_position": null,
            "order": null,
            "overflow": null,
            "overflow_x": null,
            "overflow_y": null,
            "padding": null,
            "right": null,
            "top": null,
            "visibility": null,
            "width": null
          }
        },
        "4ce0b52fbebe403b898af14f589772cc": {
          "model_module": "@jupyter-widgets/base",
          "model_module_version": "1.2.0",
          "model_name": "LayoutModel",
          "state": {
            "_model_module": "@jupyter-widgets/base",
            "_model_module_version": "1.2.0",
            "_model_name": "LayoutModel",
            "_view_count": null,
            "_view_module": "@jupyter-widgets/base",
            "_view_module_version": "1.2.0",
            "_view_name": "LayoutView",
            "align_content": null,
            "align_items": null,
            "align_self": null,
            "border": null,
            "bottom": null,
            "display": null,
            "flex": null,
            "flex_flow": null,
            "grid_area": null,
            "grid_auto_columns": null,
            "grid_auto_flow": null,
            "grid_auto_rows": null,
            "grid_column": null,
            "grid_gap": null,
            "grid_row": null,
            "grid_template_areas": null,
            "grid_template_columns": null,
            "grid_template_rows": null,
            "height": null,
            "justify_content": null,
            "justify_items": null,
            "left": null,
            "margin": null,
            "max_height": null,
            "max_width": null,
            "min_height": null,
            "min_width": null,
            "object_fit": null,
            "object_position": null,
            "order": null,
            "overflow": null,
            "overflow_x": null,
            "overflow_y": null,
            "padding": null,
            "right": null,
            "top": null,
            "visibility": null,
            "width": null
          }
        },
        "4edfef3b6ce54159ae704e3f6bb7ef57": {
          "model_module": "@jupyter-widgets/controls",
          "model_module_version": "1.5.0",
          "model_name": "LabelModel",
          "state": {
            "_dom_classes": [],
            "_model_module": "@jupyter-widgets/controls",
            "_model_module_version": "1.5.0",
            "_model_name": "LabelModel",
            "_view_count": null,
            "_view_module": "@jupyter-widgets/controls",
            "_view_module_version": "1.5.0",
            "_view_name": "LabelView",
            "description": "",
            "description_tooltip": null,
            "layout": "IPY_MODEL_6e314a1629794e5780de43eaabc529aa",
            "placeholder": "​",
            "style": "IPY_MODEL_fb1e67b63c174c57a4acbfc889fd121d",
            "value": "Connecting..."
          }
        },
        "65e5ffbfff864bdbab2d7fe15f69f9e8": {
          "model_module": "@jupyter-widgets/controls",
          "model_module_version": "1.5.0",
          "model_name": "HTMLModel",
          "state": {
            "_dom_classes": [],
            "_model_module": "@jupyter-widgets/controls",
            "_model_module_version": "1.5.0",
            "_model_name": "HTMLModel",
            "_view_count": null,
            "_view_module": "@jupyter-widgets/controls",
            "_view_module_version": "1.5.0",
            "_view_name": "HTMLView",
            "description": "",
            "description_tooltip": null,
            "layout": "IPY_MODEL_f165831279f94c17a69e8e3f730acfb6",
            "placeholder": "​",
            "style": "IPY_MODEL_a3907551cbd14ddfb967faaa85c5fe1a",
            "value": "\n<b>Pro Tip:</b> If you don't already have one, you can create a dedicated\n'notebooks' token with 'write' access, that you can then easily reuse for all\nnotebooks. </center>"
          }
        },
        "65fdbdc9ac624c57945488155e875640": {
          "model_module": "@jupyter-widgets/controls",
          "model_module_version": "1.5.0",
          "model_name": "DescriptionStyleModel",
          "state": {
            "_model_module": "@jupyter-widgets/controls",
            "_model_module_version": "1.5.0",
            "_model_name": "DescriptionStyleModel",
            "_view_count": null,
            "_view_module": "@jupyter-widgets/base",
            "_view_module_version": "1.2.0",
            "_view_name": "StyleView",
            "description_width": ""
          }
        },
        "6978e9b42ffc4f2cb72f5f1d444c84e9": {
          "model_module": "@jupyter-widgets/controls",
          "model_module_version": "1.5.0",
          "model_name": "LabelModel",
          "state": {
            "_dom_classes": [],
            "_model_module": "@jupyter-widgets/controls",
            "_model_module_version": "1.5.0",
            "_model_name": "LabelModel",
            "_view_count": null,
            "_view_module": "@jupyter-widgets/controls",
            "_view_module_version": "1.5.0",
            "_view_name": "LabelView",
            "description": "",
            "description_tooltip": null,
            "layout": "IPY_MODEL_4b5efbd31f4c41ac92456bfa8eb2257b",
            "placeholder": "​",
            "style": "IPY_MODEL_65fdbdc9ac624c57945488155e875640",
            "value": "Token anders_zach not found in /root/.cache/huggingface/stored_tokens"
          }
        },
        "6deb866c1d184a3c8efebb733bb8fcb8": {
          "model_module": "@jupyter-widgets/controls",
          "model_module_version": "1.5.0",
          "model_name": "DescriptionStyleModel",
          "state": {
            "_model_module": "@jupyter-widgets/controls",
            "_model_module_version": "1.5.0",
            "_model_name": "DescriptionStyleModel",
            "_view_count": null,
            "_view_module": "@jupyter-widgets/base",
            "_view_module_version": "1.2.0",
            "_view_name": "StyleView",
            "description_width": ""
          }
        },
        "6e04d8fd4cac4a35a21d77ec702f3a33": {
          "model_module": "@jupyter-widgets/base",
          "model_module_version": "1.2.0",
          "model_name": "LayoutModel",
          "state": {
            "_model_module": "@jupyter-widgets/base",
            "_model_module_version": "1.2.0",
            "_model_name": "LayoutModel",
            "_view_count": null,
            "_view_module": "@jupyter-widgets/base",
            "_view_module_version": "1.2.0",
            "_view_name": "LayoutView",
            "align_content": null,
            "align_items": null,
            "align_self": null,
            "border": null,
            "bottom": null,
            "display": null,
            "flex": null,
            "flex_flow": null,
            "grid_area": null,
            "grid_auto_columns": null,
            "grid_auto_flow": null,
            "grid_auto_rows": null,
            "grid_column": null,
            "grid_gap": null,
            "grid_row": null,
            "grid_template_areas": null,
            "grid_template_columns": null,
            "grid_template_rows": null,
            "height": null,
            "justify_content": null,
            "justify_items": null,
            "left": null,
            "margin": null,
            "max_height": null,
            "max_width": null,
            "min_height": null,
            "min_width": null,
            "object_fit": null,
            "object_position": null,
            "order": null,
            "overflow": null,
            "overflow_x": null,
            "overflow_y": null,
            "padding": null,
            "right": null,
            "top": null,
            "visibility": null,
            "width": null
          }
        },
        "6e314a1629794e5780de43eaabc529aa": {
          "model_module": "@jupyter-widgets/base",
          "model_module_version": "1.2.0",
          "model_name": "LayoutModel",
          "state": {
            "_model_module": "@jupyter-widgets/base",
            "_model_module_version": "1.2.0",
            "_model_name": "LayoutModel",
            "_view_count": null,
            "_view_module": "@jupyter-widgets/base",
            "_view_module_version": "1.2.0",
            "_view_name": "LayoutView",
            "align_content": null,
            "align_items": null,
            "align_self": null,
            "border": null,
            "bottom": null,
            "display": null,
            "flex": null,
            "flex_flow": null,
            "grid_area": null,
            "grid_auto_columns": null,
            "grid_auto_flow": null,
            "grid_auto_rows": null,
            "grid_column": null,
            "grid_gap": null,
            "grid_row": null,
            "grid_template_areas": null,
            "grid_template_columns": null,
            "grid_template_rows": null,
            "height": null,
            "justify_content": null,
            "justify_items": null,
            "left": null,
            "margin": null,
            "max_height": null,
            "max_width": null,
            "min_height": null,
            "min_width": null,
            "object_fit": null,
            "object_position": null,
            "order": null,
            "overflow": null,
            "overflow_x": null,
            "overflow_y": null,
            "padding": null,
            "right": null,
            "top": null,
            "visibility": null,
            "width": null
          }
        },
        "7581940b5039492aabcefeef5b2c1402": {
          "model_module": "@jupyter-widgets/controls",
          "model_module_version": "1.5.0",
          "model_name": "DescriptionStyleModel",
          "state": {
            "_model_module": "@jupyter-widgets/controls",
            "_model_module_version": "1.5.0",
            "_model_name": "DescriptionStyleModel",
            "_view_count": null,
            "_view_module": "@jupyter-widgets/base",
            "_view_module_version": "1.2.0",
            "_view_name": "StyleView",
            "description_width": ""
          }
        },
        "7ee6a5a75d6d4601942da28d09fc961e": {
          "model_module": "@jupyter-widgets/controls",
          "model_module_version": "1.5.0",
          "model_name": "LabelModel",
          "state": {
            "_dom_classes": [],
            "_model_module": "@jupyter-widgets/controls",
            "_model_module_version": "1.5.0",
            "_model_name": "LabelModel",
            "_view_count": null,
            "_view_module": "@jupyter-widgets/controls",
            "_view_module_version": "1.5.0",
            "_view_name": "LabelView",
            "description": "",
            "description_tooltip": null,
            "layout": "IPY_MODEL_eb9fe84e2b7c46b2ac0c84644ab7db42",
            "placeholder": "​",
            "style": "IPY_MODEL_a1e122938bf7452faf738a91aef5c497",
            "value": "Token anders_zach not found in /root/.cache/huggingface/stored_tokens"
          }
        },
        "8743ce89c85c4d05be1c12c33ea9093c": {
          "model_module": "@jupyter-widgets/base",
          "model_module_version": "1.2.0",
          "model_name": "LayoutModel",
          "state": {
            "_model_module": "@jupyter-widgets/base",
            "_model_module_version": "1.2.0",
            "_model_name": "LayoutModel",
            "_view_count": null,
            "_view_module": "@jupyter-widgets/base",
            "_view_module_version": "1.2.0",
            "_view_name": "LayoutView",
            "align_content": null,
            "align_items": null,
            "align_self": null,
            "border": null,
            "bottom": null,
            "display": null,
            "flex": null,
            "flex_flow": null,
            "grid_area": null,
            "grid_auto_columns": null,
            "grid_auto_flow": null,
            "grid_auto_rows": null,
            "grid_column": null,
            "grid_gap": null,
            "grid_row": null,
            "grid_template_areas": null,
            "grid_template_columns": null,
            "grid_template_rows": null,
            "height": null,
            "justify_content": null,
            "justify_items": null,
            "left": null,
            "margin": null,
            "max_height": null,
            "max_width": null,
            "min_height": null,
            "min_width": null,
            "object_fit": null,
            "object_position": null,
            "order": null,
            "overflow": null,
            "overflow_x": null,
            "overflow_y": null,
            "padding": null,
            "right": null,
            "top": null,
            "visibility": null,
            "width": null
          }
        },
        "947aa1f6245c42d592de2a4a3c3d72d2": {
          "model_module": "@jupyter-widgets/controls",
          "model_module_version": "1.5.0",
          "model_name": "ProgressStyleModel",
          "state": {
            "_model_module": "@jupyter-widgets/controls",
            "_model_module_version": "1.5.0",
            "_model_name": "ProgressStyleModel",
            "_view_count": null,
            "_view_module": "@jupyter-widgets/base",
            "_view_module_version": "1.2.0",
            "_view_name": "StyleView",
            "bar_color": null,
            "description_width": ""
          }
        },
        "a1bc74c603cf4b4fa4f5af97d479436a": {
          "model_module": "@jupyter-widgets/controls",
          "model_module_version": "1.5.0",
          "model_name": "DescriptionStyleModel",
          "state": {
            "_model_module": "@jupyter-widgets/controls",
            "_model_module_version": "1.5.0",
            "_model_name": "DescriptionStyleModel",
            "_view_count": null,
            "_view_module": "@jupyter-widgets/base",
            "_view_module_version": "1.2.0",
            "_view_name": "StyleView",
            "description_width": ""
          }
        },
        "a1e122938bf7452faf738a91aef5c497": {
          "model_module": "@jupyter-widgets/controls",
          "model_module_version": "1.5.0",
          "model_name": "DescriptionStyleModel",
          "state": {
            "_model_module": "@jupyter-widgets/controls",
            "_model_module_version": "1.5.0",
            "_model_name": "DescriptionStyleModel",
            "_view_count": null,
            "_view_module": "@jupyter-widgets/base",
            "_view_module_version": "1.2.0",
            "_view_name": "StyleView",
            "description_width": ""
          }
        },
        "a3907551cbd14ddfb967faaa85c5fe1a": {
          "model_module": "@jupyter-widgets/controls",
          "model_module_version": "1.5.0",
          "model_name": "DescriptionStyleModel",
          "state": {
            "_model_module": "@jupyter-widgets/controls",
            "_model_module_version": "1.5.0",
            "_model_name": "DescriptionStyleModel",
            "_view_count": null,
            "_view_module": "@jupyter-widgets/base",
            "_view_module_version": "1.2.0",
            "_view_name": "StyleView",
            "description_width": ""
          }
        },
        "a5492f09d6f14d67944ffe9f6addc88c": {
          "model_module": "@jupyter-widgets/controls",
          "model_module_version": "1.5.0",
          "model_name": "HTMLModel",
          "state": {
            "_dom_classes": [],
            "_model_module": "@jupyter-widgets/controls",
            "_model_module_version": "1.5.0",
            "_model_name": "HTMLModel",
            "_view_count": null,
            "_view_module": "@jupyter-widgets/controls",
            "_view_module_version": "1.5.0",
            "_view_name": "HTMLView",
            "description": "",
            "description_tooltip": null,
            "layout": "IPY_MODEL_6e04d8fd4cac4a35a21d77ec702f3a33",
            "placeholder": "​",
            "style": "IPY_MODEL_0ca34592501a44e4ae9c9365bb58682a",
            "value": "Loading checkpoint shards: 100%"
          }
        },
        "a7cf52b918614e9e9309784dd966a26f": {
          "model_module": "@jupyter-widgets/controls",
          "model_module_version": "1.5.0",
          "model_name": "FloatProgressModel",
          "state": {
            "_dom_classes": [],
            "_model_module": "@jupyter-widgets/controls",
            "_model_module_version": "1.5.0",
            "_model_name": "FloatProgressModel",
            "_view_count": null,
            "_view_module": "@jupyter-widgets/controls",
            "_view_module_version": "1.5.0",
            "_view_name": "ProgressView",
            "bar_style": "success",
            "description": "",
            "description_tooltip": null,
            "layout": "IPY_MODEL_4ce0b52fbebe403b898af14f589772cc",
            "max": 4,
            "min": 0,
            "orientation": "horizontal",
            "style": "IPY_MODEL_947aa1f6245c42d592de2a4a3c3d72d2",
            "value": 4
          }
        },
        "aa4f841fd0e9469595ba49d2b1bd17b7": {
          "model_module": "@jupyter-widgets/base",
          "model_module_version": "1.2.0",
          "model_name": "LayoutModel",
          "state": {
            "_model_module": "@jupyter-widgets/base",
            "_model_module_version": "1.2.0",
            "_model_name": "LayoutModel",
            "_view_count": null,
            "_view_module": "@jupyter-widgets/base",
            "_view_module_version": "1.2.0",
            "_view_name": "LayoutView",
            "align_content": null,
            "align_items": null,
            "align_self": null,
            "border": null,
            "bottom": null,
            "display": null,
            "flex": null,
            "flex_flow": null,
            "grid_area": null,
            "grid_auto_columns": null,
            "grid_auto_flow": null,
            "grid_auto_rows": null,
            "grid_column": null,
            "grid_gap": null,
            "grid_row": null,
            "grid_template_areas": null,
            "grid_template_columns": null,
            "grid_template_rows": null,
            "height": null,
            "justify_content": null,
            "justify_items": null,
            "left": null,
            "margin": null,
            "max_height": null,
            "max_width": null,
            "min_height": null,
            "min_width": null,
            "object_fit": null,
            "object_position": null,
            "order": null,
            "overflow": null,
            "overflow_x": null,
            "overflow_y": null,
            "padding": null,
            "right": null,
            "top": null,
            "visibility": null,
            "width": null
          }
        },
        "aef70ce0cb184556ac50cda737f22742": {
          "model_module": "@jupyter-widgets/controls",
          "model_module_version": "1.5.0",
          "model_name": "DescriptionStyleModel",
          "state": {
            "_model_module": "@jupyter-widgets/controls",
            "_model_module_version": "1.5.0",
            "_model_name": "DescriptionStyleModel",
            "_view_count": null,
            "_view_module": "@jupyter-widgets/base",
            "_view_module_version": "1.2.0",
            "_view_name": "StyleView",
            "description_width": ""
          }
        },
        "af5015c495354812a238e9eda2004941": {
          "model_module": "@jupyter-widgets/controls",
          "model_module_version": "1.5.0",
          "model_name": "HTMLModel",
          "state": {
            "_dom_classes": [],
            "_model_module": "@jupyter-widgets/controls",
            "_model_module_version": "1.5.0",
            "_model_name": "HTMLModel",
            "_view_count": null,
            "_view_module": "@jupyter-widgets/controls",
            "_view_module_version": "1.5.0",
            "_view_name": "HTMLView",
            "description": "",
            "description_tooltip": null,
            "layout": "IPY_MODEL_ed8d960c81aa4a03ae154fcd7ee7e13e",
            "placeholder": "​",
            "style": "IPY_MODEL_6deb866c1d184a3c8efebb733bb8fcb8",
            "value": "<center> <img\nsrc=https://huggingface.co/front/assets/huggingface_logo-noborder.svg\nalt='Hugging Face'> <br> Copy a token from <a\nhref=\"https://huggingface.co/settings/tokens\" target=\"_blank\">your Hugging Face\ntokens page</a> and paste it below. <br> Immediately click login after copying\nyour token or it might be stored in plain text in this notebook file. </center>"
          }
        },
        "b0137dc6b2ee43bf8ad19c55ba1f10f2": {
          "model_module": "@jupyter-widgets/controls",
          "model_module_version": "1.5.0",
          "model_name": "ButtonModel",
          "state": {
            "_dom_classes": [],
            "_model_module": "@jupyter-widgets/controls",
            "_model_module_version": "1.5.0",
            "_model_name": "ButtonModel",
            "_view_count": null,
            "_view_module": "@jupyter-widgets/controls",
            "_view_module_version": "1.5.0",
            "_view_name": "ButtonView",
            "button_style": "",
            "description": "Login",
            "disabled": false,
            "icon": "",
            "layout": "IPY_MODEL_fcf8ebbd99b1480793846c25ff2ba69a",
            "style": "IPY_MODEL_c2b8db6b89704064a03a0c6dd225ee0c",
            "tooltip": ""
          }
        },
        "c2b8db6b89704064a03a0c6dd225ee0c": {
          "model_module": "@jupyter-widgets/controls",
          "model_module_version": "1.5.0",
          "model_name": "ButtonStyleModel",
          "state": {
            "_model_module": "@jupyter-widgets/controls",
            "_model_module_version": "1.5.0",
            "_model_name": "ButtonStyleModel",
            "_view_count": null,
            "_view_module": "@jupyter-widgets/base",
            "_view_module_version": "1.2.0",
            "_view_name": "StyleView",
            "button_color": null,
            "font_weight": ""
          }
        },
        "c820b1e26a724c4d9a4cd25fc75ee598": {
          "model_module": "@jupyter-widgets/controls",
          "model_module_version": "1.5.0",
          "model_name": "DescriptionStyleModel",
          "state": {
            "_model_module": "@jupyter-widgets/controls",
            "_model_module_version": "1.5.0",
            "_model_name": "DescriptionStyleModel",
            "_view_count": null,
            "_view_module": "@jupyter-widgets/base",
            "_view_module_version": "1.2.0",
            "_view_name": "StyleView",
            "description_width": ""
          }
        },
        "d2e217ea79d944cea621b8fef88490a5": {
          "model_module": "@jupyter-widgets/base",
          "model_module_version": "1.2.0",
          "model_name": "LayoutModel",
          "state": {
            "_model_module": "@jupyter-widgets/base",
            "_model_module_version": "1.2.0",
            "_model_name": "LayoutModel",
            "_view_count": null,
            "_view_module": "@jupyter-widgets/base",
            "_view_module_version": "1.2.0",
            "_view_name": "LayoutView",
            "align_content": null,
            "align_items": null,
            "align_self": null,
            "border": null,
            "bottom": null,
            "display": null,
            "flex": null,
            "flex_flow": null,
            "grid_area": null,
            "grid_auto_columns": null,
            "grid_auto_flow": null,
            "grid_auto_rows": null,
            "grid_column": null,
            "grid_gap": null,
            "grid_row": null,
            "grid_template_areas": null,
            "grid_template_columns": null,
            "grid_template_rows": null,
            "height": null,
            "justify_content": null,
            "justify_items": null,
            "left": null,
            "margin": null,
            "max_height": null,
            "max_width": null,
            "min_height": null,
            "min_width": null,
            "object_fit": null,
            "object_position": null,
            "order": null,
            "overflow": null,
            "overflow_x": null,
            "overflow_y": null,
            "padding": null,
            "right": null,
            "top": null,
            "visibility": null,
            "width": null
          }
        },
        "e65a332d824f44bc9502c928d292541d": {
          "model_module": "@jupyter-widgets/base",
          "model_module_version": "1.2.0",
          "model_name": "LayoutModel",
          "state": {
            "_model_module": "@jupyter-widgets/base",
            "_model_module_version": "1.2.0",
            "_model_name": "LayoutModel",
            "_view_count": null,
            "_view_module": "@jupyter-widgets/base",
            "_view_module_version": "1.2.0",
            "_view_name": "LayoutView",
            "align_content": null,
            "align_items": "center",
            "align_self": null,
            "border": null,
            "bottom": null,
            "display": "flex",
            "flex": null,
            "flex_flow": "column",
            "grid_area": null,
            "grid_auto_columns": null,
            "grid_auto_flow": null,
            "grid_auto_rows": null,
            "grid_column": null,
            "grid_gap": null,
            "grid_row": null,
            "grid_template_areas": null,
            "grid_template_columns": null,
            "grid_template_rows": null,
            "height": null,
            "justify_content": null,
            "justify_items": null,
            "left": null,
            "margin": null,
            "max_height": null,
            "max_width": null,
            "min_height": null,
            "min_width": null,
            "object_fit": null,
            "object_position": null,
            "order": null,
            "overflow": null,
            "overflow_x": null,
            "overflow_y": null,
            "padding": null,
            "right": null,
            "top": null,
            "visibility": null,
            "width": "50%"
          }
        },
        "eb9fe84e2b7c46b2ac0c84644ab7db42": {
          "model_module": "@jupyter-widgets/base",
          "model_module_version": "1.2.0",
          "model_name": "LayoutModel",
          "state": {
            "_model_module": "@jupyter-widgets/base",
            "_model_module_version": "1.2.0",
            "_model_name": "LayoutModel",
            "_view_count": null,
            "_view_module": "@jupyter-widgets/base",
            "_view_module_version": "1.2.0",
            "_view_name": "LayoutView",
            "align_content": null,
            "align_items": null,
            "align_self": null,
            "border": null,
            "bottom": null,
            "display": null,
            "flex": null,
            "flex_flow": null,
            "grid_area": null,
            "grid_auto_columns": null,
            "grid_auto_flow": null,
            "grid_auto_rows": null,
            "grid_column": null,
            "grid_gap": null,
            "grid_row": null,
            "grid_template_areas": null,
            "grid_template_columns": null,
            "grid_template_rows": null,
            "height": null,
            "justify_content": null,
            "justify_items": null,
            "left": null,
            "margin": null,
            "max_height": null,
            "max_width": null,
            "min_height": null,
            "min_width": null,
            "object_fit": null,
            "object_position": null,
            "order": null,
            "overflow": null,
            "overflow_x": null,
            "overflow_y": null,
            "padding": null,
            "right": null,
            "top": null,
            "visibility": null,
            "width": null
          }
        },
        "ed8d960c81aa4a03ae154fcd7ee7e13e": {
          "model_module": "@jupyter-widgets/base",
          "model_module_version": "1.2.0",
          "model_name": "LayoutModel",
          "state": {
            "_model_module": "@jupyter-widgets/base",
            "_model_module_version": "1.2.0",
            "_model_name": "LayoutModel",
            "_view_count": null,
            "_view_module": "@jupyter-widgets/base",
            "_view_module_version": "1.2.0",
            "_view_name": "LayoutView",
            "align_content": null,
            "align_items": null,
            "align_self": null,
            "border": null,
            "bottom": null,
            "display": null,
            "flex": null,
            "flex_flow": null,
            "grid_area": null,
            "grid_auto_columns": null,
            "grid_auto_flow": null,
            "grid_auto_rows": null,
            "grid_column": null,
            "grid_gap": null,
            "grid_row": null,
            "grid_template_areas": null,
            "grid_template_columns": null,
            "grid_template_rows": null,
            "height": null,
            "justify_content": null,
            "justify_items": null,
            "left": null,
            "margin": null,
            "max_height": null,
            "max_width": null,
            "min_height": null,
            "min_width": null,
            "object_fit": null,
            "object_position": null,
            "order": null,
            "overflow": null,
            "overflow_x": null,
            "overflow_y": null,
            "padding": null,
            "right": null,
            "top": null,
            "visibility": null,
            "width": null
          }
        },
        "eee71406a9f44ed2bda843da28190930": {
          "model_module": "@jupyter-widgets/controls",
          "model_module_version": "1.5.0",
          "model_name": "CheckboxModel",
          "state": {
            "_dom_classes": [],
            "_model_module": "@jupyter-widgets/controls",
            "_model_module_version": "1.5.0",
            "_model_name": "CheckboxModel",
            "_view_count": null,
            "_view_module": "@jupyter-widgets/controls",
            "_view_module_version": "1.5.0",
            "_view_name": "CheckboxView",
            "description": "Add token as git credential?",
            "description_tooltip": null,
            "disabled": false,
            "indent": true,
            "layout": "IPY_MODEL_eeef48406f9048d69d9bf17ed2d17d5f",
            "style": "IPY_MODEL_f9104471712942ae8b0375b2927ee476",
            "value": true
          }
        },
        "eeef48406f9048d69d9bf17ed2d17d5f": {
          "model_module": "@jupyter-widgets/base",
          "model_module_version": "1.2.0",
          "model_name": "LayoutModel",
          "state": {
            "_model_module": "@jupyter-widgets/base",
            "_model_module_version": "1.2.0",
            "_model_name": "LayoutModel",
            "_view_count": null,
            "_view_module": "@jupyter-widgets/base",
            "_view_module_version": "1.2.0",
            "_view_name": "LayoutView",
            "align_content": null,
            "align_items": null,
            "align_self": null,
            "border": null,
            "bottom": null,
            "display": null,
            "flex": null,
            "flex_flow": null,
            "grid_area": null,
            "grid_auto_columns": null,
            "grid_auto_flow": null,
            "grid_auto_rows": null,
            "grid_column": null,
            "grid_gap": null,
            "grid_row": null,
            "grid_template_areas": null,
            "grid_template_columns": null,
            "grid_template_rows": null,
            "height": null,
            "justify_content": null,
            "justify_items": null,
            "left": null,
            "margin": null,
            "max_height": null,
            "max_width": null,
            "min_height": null,
            "min_width": null,
            "object_fit": null,
            "object_position": null,
            "order": null,
            "overflow": null,
            "overflow_x": null,
            "overflow_y": null,
            "padding": null,
            "right": null,
            "top": null,
            "visibility": null,
            "width": null
          }
        },
        "f140fec33e774482a40819a19d0b48a3": {
          "model_module": "@jupyter-widgets/controls",
          "model_module_version": "1.5.0",
          "model_name": "VBoxModel",
          "state": {
            "_dom_classes": [],
            "_model_module": "@jupyter-widgets/controls",
            "_model_module_version": "1.5.0",
            "_model_name": "VBoxModel",
            "_view_count": null,
            "_view_module": "@jupyter-widgets/controls",
            "_view_module_version": "1.5.0",
            "_view_name": "VBoxView",
            "box_style": "",
            "children": [
              "IPY_MODEL_7ee6a5a75d6d4601942da28d09fc961e"
            ],
            "layout": "IPY_MODEL_e65a332d824f44bc9502c928d292541d"
          }
        },
        "f165831279f94c17a69e8e3f730acfb6": {
          "model_module": "@jupyter-widgets/base",
          "model_module_version": "1.2.0",
          "model_name": "LayoutModel",
          "state": {
            "_model_module": "@jupyter-widgets/base",
            "_model_module_version": "1.2.0",
            "_model_name": "LayoutModel",
            "_view_count": null,
            "_view_module": "@jupyter-widgets/base",
            "_view_module_version": "1.2.0",
            "_view_name": "LayoutView",
            "align_content": null,
            "align_items": null,
            "align_self": null,
            "border": null,
            "bottom": null,
            "display": null,
            "flex": null,
            "flex_flow": null,
            "grid_area": null,
            "grid_auto_columns": null,
            "grid_auto_flow": null,
            "grid_auto_rows": null,
            "grid_column": null,
            "grid_gap": null,
            "grid_row": null,
            "grid_template_areas": null,
            "grid_template_columns": null,
            "grid_template_rows": null,
            "height": null,
            "justify_content": null,
            "justify_items": null,
            "left": null,
            "margin": null,
            "max_height": null,
            "max_width": null,
            "min_height": null,
            "min_width": null,
            "object_fit": null,
            "object_position": null,
            "order": null,
            "overflow": null,
            "overflow_x": null,
            "overflow_y": null,
            "padding": null,
            "right": null,
            "top": null,
            "visibility": null,
            "width": null
          }
        },
        "f9104471712942ae8b0375b2927ee476": {
          "model_module": "@jupyter-widgets/controls",
          "model_module_version": "1.5.0",
          "model_name": "DescriptionStyleModel",
          "state": {
            "_model_module": "@jupyter-widgets/controls",
            "_model_module_version": "1.5.0",
            "_model_name": "DescriptionStyleModel",
            "_view_count": null,
            "_view_module": "@jupyter-widgets/base",
            "_view_module_version": "1.2.0",
            "_view_name": "StyleView",
            "description_width": ""
          }
        },
        "fa2a7c91ccb648bbabc30f0d1e87339c": {
          "model_module": "@jupyter-widgets/controls",
          "model_module_version": "1.5.0",
          "model_name": "HBoxModel",
          "state": {
            "_dom_classes": [],
            "_model_module": "@jupyter-widgets/controls",
            "_model_module_version": "1.5.0",
            "_model_name": "HBoxModel",
            "_view_count": null,
            "_view_module": "@jupyter-widgets/controls",
            "_view_module_version": "1.5.0",
            "_view_name": "HBoxView",
            "box_style": "",
            "children": [
              "IPY_MODEL_a5492f09d6f14d67944ffe9f6addc88c",
              "IPY_MODEL_a7cf52b918614e9e9309784dd966a26f",
              "IPY_MODEL_1e7663dea8e54add8abb3c6425cfb9d1"
            ],
            "layout": "IPY_MODEL_8743ce89c85c4d05be1c12c33ea9093c"
          }
        },
        "fb1e67b63c174c57a4acbfc889fd121d": {
          "model_module": "@jupyter-widgets/controls",
          "model_module_version": "1.5.0",
          "model_name": "DescriptionStyleModel",
          "state": {
            "_model_module": "@jupyter-widgets/controls",
            "_model_module_version": "1.5.0",
            "_model_name": "DescriptionStyleModel",
            "_view_count": null,
            "_view_module": "@jupyter-widgets/base",
            "_view_module_version": "1.2.0",
            "_view_name": "StyleView",
            "description_width": ""
          }
        },
        "fc5e7b4013434230936d81755431aaae": {
          "model_module": "@jupyter-widgets/controls",
          "model_module_version": "1.5.0",
          "model_name": "LabelModel",
          "state": {
            "_dom_classes": [],
            "_model_module": "@jupyter-widgets/controls",
            "_model_module_version": "1.5.0",
            "_model_name": "LabelModel",
            "_view_count": null,
            "_view_module": "@jupyter-widgets/controls",
            "_view_module_version": "1.5.0",
            "_view_name": "LabelView",
            "description": "",
            "description_tooltip": null,
            "layout": "IPY_MODEL_32fafcafd6dc4f31ba07d0c6bd5208b9",
            "placeholder": "​",
            "style": "IPY_MODEL_aef70ce0cb184556ac50cda737f22742",
            "value": "Connecting..."
          }
        },
        "fcf8ebbd99b1480793846c25ff2ba69a": {
          "model_module": "@jupyter-widgets/base",
          "model_module_version": "1.2.0",
          "model_name": "LayoutModel",
          "state": {
            "_model_module": "@jupyter-widgets/base",
            "_model_module_version": "1.2.0",
            "_model_name": "LayoutModel",
            "_view_count": null,
            "_view_module": "@jupyter-widgets/base",
            "_view_module_version": "1.2.0",
            "_view_name": "LayoutView",
            "align_content": null,
            "align_items": null,
            "align_self": null,
            "border": null,
            "bottom": null,
            "display": null,
            "flex": null,
            "flex_flow": null,
            "grid_area": null,
            "grid_auto_columns": null,
            "grid_auto_flow": null,
            "grid_auto_rows": null,
            "grid_column": null,
            "grid_gap": null,
            "grid_row": null,
            "grid_template_areas": null,
            "grid_template_columns": null,
            "grid_template_rows": null,
            "height": null,
            "justify_content": null,
            "justify_items": null,
            "left": null,
            "margin": null,
            "max_height": null,
            "max_width": null,
            "min_height": null,
            "min_width": null,
            "object_fit": null,
            "object_position": null,
            "order": null,
            "overflow": null,
            "overflow_x": null,
            "overflow_y": null,
            "padding": null,
            "right": null,
            "top": null,
            "visibility": null,
            "width": null
          }
        },
        "ff9a9af817384c67baf215e426de7e07": {
          "model_module": "@jupyter-widgets/base",
          "model_module_version": "1.2.0",
          "model_name": "LayoutModel",
          "state": {
            "_model_module": "@jupyter-widgets/base",
            "_model_module_version": "1.2.0",
            "_model_name": "LayoutModel",
            "_view_count": null,
            "_view_module": "@jupyter-widgets/base",
            "_view_module_version": "1.2.0",
            "_view_name": "LayoutView",
            "align_content": null,
            "align_items": null,
            "align_self": null,
            "border": null,
            "bottom": null,
            "display": null,
            "flex": null,
            "flex_flow": null,
            "grid_area": null,
            "grid_auto_columns": null,
            "grid_auto_flow": null,
            "grid_auto_rows": null,
            "grid_column": null,
            "grid_gap": null,
            "grid_row": null,
            "grid_template_areas": null,
            "grid_template_columns": null,
            "grid_template_rows": null,
            "height": null,
            "justify_content": null,
            "justify_items": null,
            "left": null,
            "margin": null,
            "max_height": null,
            "max_width": null,
            "min_height": null,
            "min_width": null,
            "object_fit": null,
            "object_position": null,
            "order": null,
            "overflow": null,
            "overflow_x": null,
            "overflow_y": null,
            "padding": null,
            "right": null,
            "top": null,
            "visibility": null,
            "width": null
          }
        }
      }
    }
  },
  "nbformat": 4,
  "nbformat_minor": 0
}
