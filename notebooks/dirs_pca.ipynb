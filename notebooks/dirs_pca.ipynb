{
 "cells": [
  {
   "cell_type": "code",
   "execution_count": 1,
   "id": "e5007607",
   "metadata": {},
   "outputs": [
    {
     "name": "stdout",
     "output_type": "stream",
     "text": [
      "Python version: 3.10.12 (main, Feb  4 2025, 14:57:36) [GCC 11.4.0]\n",
      "\u001b[33mWARNING: Running pip as the 'root' user can result in broken permissions and conflicting behaviour with the system package manager, possibly rendering your system unusable. It is recommended to use a virtual environment instead: https://pip.pypa.io/warnings/venv. Use the --root-user-action option if you know what you are doing and want to suppress this warning.\u001b[0m\u001b[33m\n",
      "\u001b[0m\u001b[33mWARNING: Running pip as the 'root' user can result in broken permissions and conflicting behaviour with the system package manager, possibly rendering your system unusable. It is recommended to use a virtual environment instead: https://pip.pypa.io/warnings/venv. Use the --root-user-action option if you know what you are doing and want to suppress this warning.\u001b[0m\u001b[33m\n",
      "\u001b[0mUsing device: cuda\n"
     ]
    }
   ],
   "source": [
    "# Check Python version (optional):\n",
    "import sys\n",
    "print(\"Python version:\", sys.version)\n",
    "\n",
    "# Get installations\n",
    "!pip install --quiet torch numpy matplotlib scikit-learn pandas\n",
    "!pip install --quiet huggingface_hub transformers\n",
    "\n",
    "import os\n",
    "import torch\n",
    "import numpy as np\n",
    "import matplotlib.pyplot as plt\n",
    "from sklearn.decomposition import PCA\n",
    "\n",
    "# If you want to check GPU usage:\n",
    "import torch\n",
    "device = \"cuda\" if torch.cuda.is_available() else \"cpu\"\n",
    "print(\"Using device:\", device)"
   ]
  },
  {
   "cell_type": "code",
   "execution_count": null,
   "id": "817bf15a",
   "metadata": {},
   "outputs": [
    {
     "name": "stdout",
     "output_type": "stream",
     "text": [
      "\u001b[33mWARNING: Running pip as the 'root' user can result in broken permissions and conflicting behaviour with the system package manager, possibly rendering your system unusable. It is recommended to use a virtual environment instead: https://pip.pypa.io/warnings/venv. Use the --root-user-action option if you know what you are doing and want to suppress this warning.\u001b[0m\u001b[33m\n",
      "\u001b[0m"
     ]
    }
   ],
   "source": [
    "!pip install huggingface_hub --quiet\n",
    "from huggingface_hub import login\n",
    "\n",
    "# Login to huggingface through token\n",
    "# If you don't have a token secret yet: uncomment this and put your token in\n",
    "# !echo \"<token>\" >> /content/drive/MyDrive/.secrets/hf_token.txt\n",
    "\n",
    "with open('/content/drive/MyDrive/.secrets/hf_token.txt') as f:\n",
    "    hf_token = f.read().strip()\n",
    "\n",
    "# Login with the token\n",
    "login(token=hf_token)"
   ]
  },
  {
   "cell_type": "code",
   "execution_count": 4,
   "id": "c9946a12",
   "metadata": {},
   "outputs": [
    {
     "name": "stdout",
     "output_type": "stream",
     "text": [
      "/root/jailbreak_irg_2025\n"
     ]
    },
    {
     "name": "stderr",
     "output_type": "stream",
     "text": [
      "/usr/local/lib/python3.10/dist-packages/IPython/core/magics/osm.py:417: UserWarning: This is now an optional IPython functionality, setting dhist requires you to install the `pickleshare` library.\n",
      "  self.shell.db['dhist'] = compress_dhist(dhist)[-100:]\n"
     ]
    }
   ],
   "source": [
    "%cd .."
   ]
  },
  {
   "cell_type": "code",
   "execution_count": 5,
   "id": "771d035b",
   "metadata": {},
   "outputs": [
    {
     "name": "stderr",
     "output_type": "stream",
     "text": [
      "[INFO] Logger initialized.\n"
     ]
    }
   ],
   "source": [
    "import logging\n",
    "from utils.run_scripts.logger import init_logger\n",
    "logging.basicConfig(level=logging.INFO)\n",
    "\n",
    "logger = init_logger(\n",
    "    log_file=\"logs/progress.log\",\n",
    "    console_level=logging.INFO,     # only info to console\n",
    "    file_level=logging.DEBUG        # full debug info in the file\n",
    ")"
   ]
  },
  {
   "cell_type": "code",
   "execution_count": 11,
   "id": "04e7fa4b",
   "metadata": {},
   "outputs": [],
   "source": [
    "input_dir = \"experiment_success_class/renellm_output_gemma2it\"\n",
    "output_dir = \"experiment_pca/output\"\n",
    "layer = 0"
   ]
  },
  {
   "cell_type": "code",
   "execution_count": 12,
   "id": "2cbb7985",
   "metadata": {},
   "outputs": [
    {
     "name": "stderr",
     "output_type": "stream",
     "text": [
      "[INFO] Processing subdir='attack' with 2 .pt files.\n",
      "/root/jailbreak_irg_2025/experiment_pca/run_scripts/pca_dirs3.py:56: FutureWarning: You are using `torch.load` with `weights_only=False` (the current default value), which uses the default pickle module implicitly. It is possible to construct malicious pickle data which will execute arbitrary code during unpickling (See https://github.com/pytorch/pytorch/blob/main/SECURITY.md#untrusted-models for more details). In a future release, the default value for `weights_only` will be flipped to `True`. This limits the functions that could be executed during unpickling. Arbitrary objects will no longer be allowed to be loaded via this mode unless they are explicitly allowlisted by the user via `torch.serialization.add_safe_globals`. We recommend you start setting `weights_only=True` for any use case where you don't have full control of the loaded file. Please open an issue on GitHub for any issues related to this experimental feature.\n",
      "  data_dict = torch.load(pt_file)\n",
      "[ERROR] Failed loading experiment_success_class/renellm_output_gemma2it/attack/activations_00000_00064_labeled.pt due to Got unsupported ScalarType BFloat16\n",
      "[ERROR] Failed loading experiment_success_class/renellm_output_gemma2it/attack/activations_00064_00120_labeled.pt due to Got unsupported ScalarType BFloat16\n",
      "[INFO] No valid samples in 'attack' after reading all .pt files.\n",
      "[INFO] Processing subdir='jailbreak' with 2 .pt files.\n",
      "[ERROR] Failed loading experiment_success_class/renellm_output_gemma2it/jailbreak/activations_00000_00064_labeled.pt due to Got unsupported ScalarType BFloat16\n",
      "[ERROR] Failed loading experiment_success_class/renellm_output_gemma2it/jailbreak/activations_00064_00120_labeled.pt due to Got unsupported ScalarType BFloat16\n",
      "[INFO] No valid samples in 'jailbreak' after reading all .pt files.\n",
      "[INFO] Processing subdir='jailbreak_m' with 2 .pt files.\n",
      "[ERROR] Failed loading experiment_success_class/renellm_output_gemma2it/jailbreak_m/activations_00000_00064_labeled.pt due to Got unsupported ScalarType BFloat16\n",
      "[ERROR] Failed loading experiment_success_class/renellm_output_gemma2it/jailbreak_m/activations_00064_00120_labeled.pt due to Got unsupported ScalarType BFloat16\n",
      "[INFO] No valid samples in 'jailbreak_m' after reading all .pt files.\n",
      "[INFO] Processing subdir='jailbreak_s' with 2 .pt files.\n",
      "[ERROR] Failed loading experiment_success_class/renellm_output_gemma2it/jailbreak_s/activations_00000_00064_labeled.pt due to Got unsupported ScalarType BFloat16\n",
      "[ERROR] Failed loading experiment_success_class/renellm_output_gemma2it/jailbreak_s/activations_00064_00120_labeled.pt due to Got unsupported ScalarType BFloat16\n",
      "[INFO] No valid samples in 'jailbreak_s' after reading all .pt files.\n",
      "[INFO] Processing subdir='jailbreak_xs' with 2 .pt files.\n",
      "[ERROR] Failed loading experiment_success_class/renellm_output_gemma2it/jailbreak_xs/activations_00000_00064_labeled.pt due to Got unsupported ScalarType BFloat16\n",
      "[ERROR] Failed loading experiment_success_class/renellm_output_gemma2it/jailbreak_xs/activations_00064_00120_labeled.pt due to Got unsupported ScalarType BFloat16\n",
      "[INFO] No valid samples in 'jailbreak_xs' after reading all .pt files.\n",
      "[INFO] Processing subdir='jailbreak_explained' with 2 .pt files.\n",
      "[ERROR] Failed loading experiment_success_class/renellm_output_gemma2it/jailbreak_explained/activations_00000_00064_labeled.pt due to Got unsupported ScalarType BFloat16\n",
      "[ERROR] Failed loading experiment_success_class/renellm_output_gemma2it/jailbreak_explained/activations_00064_00120_labeled.pt due to Got unsupported ScalarType BFloat16\n",
      "[INFO] No valid samples in 'jailbreak_explained' after reading all .pt files.\n",
      "[INFO] Processing subdir='jailbreak_direct' with 2 .pt files.\n",
      "[ERROR] Failed loading experiment_success_class/renellm_output_gemma2it/jailbreak_direct/activations_00000_00064_labeled.pt due to Got unsupported ScalarType BFloat16\n",
      "[ERROR] Failed loading experiment_success_class/renellm_output_gemma2it/jailbreak_direct/activations_00064_00120_labeled.pt due to Got unsupported ScalarType BFloat16\n",
      "[INFO] No valid samples in 'jailbreak_direct' after reading all .pt files.\n"
     ]
    }
   ],
   "source": [
    "from experiment_pca.run_scripts.pca_dirs3 import perform_pca_and_plot\n",
    "\n",
    "perform_pca_and_plot(input_dir, output_dir, layer, logger=logger)"
   ]
  }
 ],
 "metadata": {
  "kernelspec": {
   "display_name": "Python 3",
   "language": "python",
   "name": "python3"
  },
  "language_info": {
   "codemirror_mode": {
    "name": "ipython",
    "version": 3
   },
   "file_extension": ".py",
   "mimetype": "text/x-python",
   "name": "python",
   "nbconvert_exporter": "python",
   "pygments_lexer": "ipython3",
   "version": "3.10.12"
  }
 },
 "nbformat": 4,
 "nbformat_minor": 5
}
