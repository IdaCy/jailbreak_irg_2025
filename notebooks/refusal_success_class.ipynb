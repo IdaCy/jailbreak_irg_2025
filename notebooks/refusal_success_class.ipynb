{
 "cells": [
  {
   "cell_type": "code",
   "execution_count": 1,
   "id": "3cfb0efa",
   "metadata": {},
   "outputs": [
    {
     "name": "stdout",
     "output_type": "stream",
     "text": [
      "Python version: 3.10.12 (main, Feb  4 2025, 14:57:36) [GCC 11.4.0]\n",
      "\u001b[33mWARNING: Running pip as the 'root' user can result in broken permissions and conflicting behaviour with the system package manager, possibly rendering your system unusable. It is recommended to use a virtual environment instead: https://pip.pypa.io/warnings/venv. Use the --root-user-action option if you know what you are doing and want to suppress this warning.\u001b[0m\u001b[33m\n",
      "\u001b[0m\u001b[33mWARNING: Running pip as the 'root' user can result in broken permissions and conflicting behaviour with the system package manager, possibly rendering your system unusable. It is recommended to use a virtual environment instead: https://pip.pypa.io/warnings/venv. Use the --root-user-action option if you know what you are doing and want to suppress this warning.\u001b[0m\u001b[33m\n",
      "\u001b[0mUsing device: cuda\n"
     ]
    }
   ],
   "source": [
    "# Check Python version (optional):\n",
    "import sys\n",
    "print(\"Python version:\", sys.version)\n",
    "\n",
    "# Get installations\n",
    "!pip install --quiet torch numpy matplotlib scikit-learn pandas\n",
    "!pip install --quiet huggingface_hub transformers\n",
    "\n",
    "import os\n",
    "import torch\n",
    "import numpy as np\n",
    "import matplotlib.pyplot as plt\n",
    "from sklearn.decomposition import PCA\n",
    "\n",
    "# If you want to check GPU usage:\n",
    "import torch\n",
    "device = \"cuda\" if torch.cuda.is_available() else \"cpu\"\n",
    "print(\"Using device:\", device)"
   ]
  },
  {
   "cell_type": "code",
   "execution_count": 2,
   "id": "1f6a1894",
   "metadata": {},
   "outputs": [
    {
     "name": "stdout",
     "output_type": "stream",
     "text": [
      "/root/jailbreak_irg_2025\n"
     ]
    },
    {
     "name": "stderr",
     "output_type": "stream",
     "text": [
      "/usr/local/lib/python3.10/dist-packages/IPython/core/magics/osm.py:417: UserWarning: This is now an optional IPython functionality, setting dhist requires you to install the `pickleshare` library.\n",
      "  self.shell.db['dhist'] = compress_dhist(dhist)[-100:]\n"
     ]
    }
   ],
   "source": [
    "%cd .."
   ]
  },
  {
   "cell_type": "code",
   "execution_count": 3,
   "id": "84519219",
   "metadata": {},
   "outputs": [
    {
     "name": "stdout",
     "output_type": "stream",
     "text": [
      "README.md                        \u001b[0m\u001b[01;34mexperiment_linear_classifiers\u001b[0m/  \u001b[01;34mlogs\u001b[0m/\n",
      "\u001b[01;34mdata\u001b[0m/                            \u001b[01;34mexperiment_semantics_eval\u001b[0m/      \u001b[01;34mnotebooks\u001b[0m/\n",
      "\u001b[01;34mexperiment_attention_fractions\u001b[0m/  \u001b[01;34mexperiment_success_class\u001b[0m/       \u001b[01;34mout_dir\u001b[0m/\n",
      "\u001b[01;34mexperiment_cosine_similarity\u001b[0m/    \u001b[01;34minference\u001b[0m/                      \u001b[01;34mutils\u001b[0m/\n"
     ]
    }
   ],
   "source": [
    "%ls"
   ]
  },
  {
   "cell_type": "code",
   "execution_count": 4,
   "id": "2fbd7f4a",
   "metadata": {},
   "outputs": [
    {
     "name": "stderr",
     "output_type": "stream",
     "text": [
      "[INFO] Logger initialized.\n"
     ]
    }
   ],
   "source": [
    "import logging\n",
    "from utils.run_scripts.logger import init_logger\n",
    "logging.basicConfig(level=logging.INFO)\n",
    "\n",
    "logger = init_logger(\n",
    "    log_file=\"logs/progress.log\",\n",
    "    console_level=logging.INFO,     # only info to console\n",
    "    file_level=logging.DEBUG        # full debug info in the file\n",
    ")"
   ]
  },
  {
   "cell_type": "code",
   "execution_count": null,
   "id": "10f8d1c0",
   "metadata": {},
   "outputs": [
    {
     "name": "stdout",
     "output_type": "stream",
     "text": [
      "\u001b[33mWARNING: Running pip as the 'root' user can result in broken permissions and conflicting behaviour with the system package manager, possibly rendering your system unusable. It is recommended to use a virtual environment instead: https://pip.pypa.io/warnings/venv. Use the --root-user-action option if you know what you are doing and want to suppress this warning.\u001b[0m\u001b[33m\n",
      "\u001b[0m"
     ]
    },
    {
     "name": "stderr",
     "output_type": "stream",
     "text": [
      "/usr/local/lib/python3.10/dist-packages/tqdm/auto.py:21: TqdmWarning: IProgress not found. Please update jupyter and ipywidgets. See https://ipywidgets.readthedocs.io/en/stable/user_install.html\n",
      "  from .autonotebook import tqdm as notebook_tqdm\n"
     ]
    }
   ],
   "source": [
    "!pip install huggingface_hub --quiet\n",
    "from huggingface_hub import login\n",
    "\n",
    "# Login to huggingface through token\n",
    "# If you don't have a token secret yet: uncomment this and put your token in\n",
    "# !echo \"<token>\" >> /content/drive/MyDrive/.secrets/hf_token.txt\n",
    "\n",
    "with open('/content/drive/MyDrive/.secrets/hf_token.txt') as f:\n",
    "    hf_token = f.read().strip()\n",
    "\n",
    "# Login with the token\n",
    "login(token=hf_token)"
   ]
  },
  {
   "cell_type": "code",
   "execution_count": 6,
   "id": "90c041e8",
   "metadata": {},
   "outputs": [
    {
     "name": "stderr",
     "output_type": "stream",
     "text": [
      "[INFO] Loading tokenizer from 'google/gemma-2-2b-it'\n",
      "/usr/local/lib/python3.10/dist-packages/transformers/models/auto/tokenization_auto.py:897: FutureWarning: The `use_auth_token` argument is deprecated and will be removed in v5 of Transformers. Please use `token` instead.\n",
      "  warnings.warn(\n",
      "[INFO] Loading model 'google/gemma-2-2b-it' (bfloat16=True) with device_map=auto\n",
      "/usr/local/lib/python3.10/dist-packages/transformers/models/auto/auto_factory.py:476: FutureWarning: The `use_auth_token` argument is deprecated and will be removed in v5 of Transformers. Please use `token` instead.\n",
      "  warnings.warn(\n",
      "Loading checkpoint shards: 100%|██████████| 2/2 [00:01<00:00,  1.82it/s]\n",
      "[INFO] Model loaded successfully.\n"
     ]
    }
   ],
   "source": [
    "from utils.run_scripts.load_model import load_model\n",
    "model, tokenizer = load_model(\n",
    "    model_name=\"google/gemma-2-2b-it\",\n",
    "    #model_name=\"Qwen/Qwen1.5-1.8B\",\n",
    "    #model_name=\"EleutherAI/gpt-neo-1.3B\",\n",
    "    #model_name=\"EleutherAI/pythia-1.4b\",\n",
    "    use_bfloat16=True,\n",
    "    hf_token=hf_token,\n",
    "    logger=logger\n",
    ")"
   ]
  },
  {
   "cell_type": "code",
   "execution_count": 7,
   "id": "49235b8a",
   "metadata": {},
   "outputs": [],
   "source": [
    "from experiment_success_class.run_scripts.label_refusal import label_results"
   ]
  },
  {
   "cell_type": "code",
   "execution_count": 16,
   "id": "a3b7985b",
   "metadata": {},
   "outputs": [],
   "source": [
    "#model_type = \"gemma2it\"\n",
    "model_type = \"gwen1\"\n",
    "\n",
    "in_files = \"inference/renellm_output_\" + model_type + \"/\"\n",
    "out_files = \"experiment_success_class/renellm_output_\" + model_type + \"/\""
   ]
  },
  {
   "cell_type": "code",
   "execution_count": 17,
   "id": "181fab19",
   "metadata": {},
   "outputs": [
    {
     "name": "stderr",
     "output_type": "stream",
     "text": [
      "[INFO] Found 2 files to process.\n",
      "[INFO] Labeled file saved to experiment_success_class/renellm_output_gwen1/attack/activations_00000_00064_labeled.pt\n",
      "[INFO] Labeled file saved to experiment_success_class/renellm_output_gwen1/attack/activations_00064_00120_labeled.pt\n",
      "[INFO] === Labeling Summary ===\n",
      "[INFO] Total responses processed: 120\n",
      "[INFO] Refusing responses: 86\n",
      "[INFO] Direct responses: 34\n"
     ]
    }
   ],
   "source": [
    "prompt = \"attack\"\n",
    "label_results(in_files+prompt, out_files+prompt, logger=logger)"
   ]
  },
  {
   "cell_type": "code",
   "execution_count": 18,
   "id": "c6af11d1",
   "metadata": {},
   "outputs": [
    {
     "name": "stderr",
     "output_type": "stream",
     "text": [
      "[INFO] Found 2 files to process.\n",
      "[INFO] Labeled file saved to experiment_success_class/renellm_output_gwen1/jailbreak/activations_00000_00064_labeled.pt\n",
      "[INFO] Labeled file saved to experiment_success_class/renellm_output_gwen1/jailbreak/activations_00064_00120_labeled.pt\n",
      "[INFO] === Labeling Summary ===\n",
      "[INFO] Total responses processed: 120\n",
      "[INFO] Refusing responses: 18\n",
      "[INFO] Direct responses: 102\n"
     ]
    }
   ],
   "source": [
    "prompt = \"jailbreak\"\n",
    "label_results(in_files+prompt, out_files+prompt, logger=logger)"
   ]
  },
  {
   "cell_type": "code",
   "execution_count": 19,
   "id": "5c6f61c1",
   "metadata": {},
   "outputs": [
    {
     "name": "stderr",
     "output_type": "stream",
     "text": [
      "[INFO] Found 2 files to process.\n",
      "[INFO] Labeled file saved to experiment_success_class/renellm_output_gwen1/jailbreak_m/activations_00000_00064_labeled.pt\n",
      "[INFO] Labeled file saved to experiment_success_class/renellm_output_gwen1/jailbreak_m/activations_00064_00120_labeled.pt\n",
      "[INFO] === Labeling Summary ===\n",
      "[INFO] Total responses processed: 120\n",
      "[INFO] Refusing responses: 16\n",
      "[INFO] Direct responses: 104\n"
     ]
    }
   ],
   "source": [
    "prompt = \"jailbreak_m\"\n",
    "label_results(in_files+prompt, out_files+prompt, logger=logger)"
   ]
  },
  {
   "cell_type": "code",
   "execution_count": 20,
   "id": "a4067507",
   "metadata": {},
   "outputs": [
    {
     "name": "stderr",
     "output_type": "stream",
     "text": [
      "[INFO] Found 2 files to process.\n",
      "[INFO] Labeled file saved to experiment_success_class/renellm_output_gwen1/jailbreak_s/activations_00000_00064_labeled.pt\n",
      "[INFO] Labeled file saved to experiment_success_class/renellm_output_gwen1/jailbreak_s/activations_00064_00120_labeled.pt\n",
      "[INFO] === Labeling Summary ===\n",
      "[INFO] Total responses processed: 120\n",
      "[INFO] Refusing responses: 21\n",
      "[INFO] Direct responses: 99\n"
     ]
    }
   ],
   "source": [
    "prompt = \"jailbreak_s\"\n",
    "label_results(in_files+prompt, out_files+prompt, logger=logger)"
   ]
  },
  {
   "cell_type": "code",
   "execution_count": 21,
   "id": "3aeb6557",
   "metadata": {},
   "outputs": [
    {
     "name": "stderr",
     "output_type": "stream",
     "text": [
      "[INFO] Found 2 files to process.\n",
      "[INFO] Labeled file saved to experiment_success_class/renellm_output_gwen1/jailbreak_xs/activations_00000_00064_labeled.pt\n",
      "[INFO] Labeled file saved to experiment_success_class/renellm_output_gwen1/jailbreak_xs/activations_00064_00120_labeled.pt\n",
      "[INFO] === Labeling Summary ===\n",
      "[INFO] Total responses processed: 120\n",
      "[INFO] Refusing responses: 21\n",
      "[INFO] Direct responses: 99\n"
     ]
    }
   ],
   "source": [
    "prompt = \"jailbreak_xs\"\n",
    "label_results(in_files+prompt, out_files+prompt, logger=logger)"
   ]
  },
  {
   "cell_type": "code",
   "execution_count": 22,
   "id": "50fadab1",
   "metadata": {},
   "outputs": [
    {
     "name": "stderr",
     "output_type": "stream",
     "text": [
      "[INFO] Found 2 files to process.\n",
      "[INFO] Labeled file saved to experiment_success_class/renellm_output_gwen1/jailbreak_explained/activations_00000_00064_labeled.pt\n",
      "[INFO] Labeled file saved to experiment_success_class/renellm_output_gwen1/jailbreak_explained/activations_00064_00120_labeled.pt\n",
      "[INFO] === Labeling Summary ===\n",
      "[INFO] Total responses processed: 120\n",
      "[INFO] Refusing responses: 16\n",
      "[INFO] Direct responses: 104\n"
     ]
    }
   ],
   "source": [
    "prompt = \"jailbreak_explained\"\n",
    "label_results(in_files+prompt, out_files+prompt, logger=logger)"
   ]
  },
  {
   "cell_type": "code",
   "execution_count": 23,
   "id": "4adfc84a",
   "metadata": {},
   "outputs": [
    {
     "name": "stderr",
     "output_type": "stream",
     "text": [
      "[INFO] Found 2 files to process.\n",
      "[INFO] Labeled file saved to experiment_success_class/renellm_output_gwen1/jailbreak_direct/activations_00000_00064_labeled.pt\n",
      "[INFO] Labeled file saved to experiment_success_class/renellm_output_gwen1/jailbreak_direct/activations_00064_00120_labeled.pt\n",
      "[INFO] === Labeling Summary ===\n",
      "[INFO] Total responses processed: 120\n",
      "[INFO] Refusing responses: 28\n",
      "[INFO] Direct responses: 92\n"
     ]
    }
   ],
   "source": [
    "prompt = \"jailbreak_direct\"\n",
    "label_results(in_files+prompt, out_files+prompt, logger=logger)"
   ]
  },
  {
   "cell_type": "code",
   "execution_count": 4,
   "id": "8f7babf7",
   "metadata": {},
   "outputs": [
    {
     "ename": "ImportError",
     "evalue": "cannot import name 'process_main_directory' from 'experiment_success_class.run_scripts.count_refusal' (/root/jailbreak_irg_2025/experiment_success_class/run_scripts/count_refusal.py)",
     "output_type": "error",
     "traceback": [
      "\u001b[0;31m---------------------------------------------------------------------------\u001b[0m",
      "\u001b[0;31mImportError\u001b[0m                               Traceback (most recent call last)",
      "Cell \u001b[0;32mIn[4], line 1\u001b[0m\n\u001b[0;32m----> 1\u001b[0m \u001b[38;5;28;01mfrom\u001b[39;00m\u001b[38;5;250m \u001b[39m\u001b[38;5;21;01mexperiment_success_class\u001b[39;00m\u001b[38;5;21;01m.\u001b[39;00m\u001b[38;5;21;01mrun_scripts\u001b[39;00m\u001b[38;5;21;01m.\u001b[39;00m\u001b[38;5;21;01mcount_refusal\u001b[39;00m\u001b[38;5;250m \u001b[39m\u001b[38;5;28;01mimport\u001b[39;00m process_main_directory\n\u001b[1;32m      3\u001b[0m \u001b[38;5;66;03m# Set the path to your main directory\u001b[39;00m\n\u001b[1;32m      4\u001b[0m main_dir \u001b[38;5;241m=\u001b[39m \u001b[38;5;124m\"\u001b[39m\u001b[38;5;124mexperiment_success_class/renellm_output_gemma2it\u001b[39m\u001b[38;5;124m\"\u001b[39m\n",
      "\u001b[0;31mImportError\u001b[0m: cannot import name 'process_main_directory' from 'experiment_success_class.run_scripts.count_refusal' (/root/jailbreak_irg_2025/experiment_success_class/run_scripts/count_refusal.py)"
     ]
    }
   ],
   "source": [
    "from experiment_success_class.run_scripts.count_refusal import process_main_directory\n",
    "\n",
    "# Set the path to your main directory\n",
    "main_dir = \"experiment_success_class/renellm_output_gemma2it\"\n",
    "\n",
    "summary = process_main_directory(main_dir)\n",
    "\n",
    "# Print the summary report\n",
    "for folder, counts in summary.items():\n",
    "    print(f\"Folder: {folder}\")\n",
    "    print(f\"  Refusing responses: {counts['refusing']}\")\n",
    "    print(f\"  Direct responses: {counts['direct']}\")\n",
    "    print(\"-\" * 30)\n"
   ]
  }
 ],
 "metadata": {
  "kernelspec": {
   "display_name": "Python 3",
   "language": "python",
   "name": "python3"
  },
  "language_info": {
   "codemirror_mode": {
    "name": "ipython",
    "version": 3
   },
   "file_extension": ".py",
   "mimetype": "text/x-python",
   "name": "python",
   "nbconvert_exporter": "python",
   "pygments_lexer": "ipython3",
   "version": "3.10.12"
  }
 },
 "nbformat": 4,
 "nbformat_minor": 5
}
